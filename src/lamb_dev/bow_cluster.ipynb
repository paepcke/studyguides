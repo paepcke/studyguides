{
 "cells": [
  {
   "cell_type": "code",
   "execution_count": 1,
   "metadata": {
    "collapsed": true
   },
   "outputs": [],
   "source": [
    "import os.path\n",
    "\n",
    "import numpy as np\n",
    "\n",
    "from pprint import pprint\n",
    "from sklearn.feature_extraction.text import TfidfVectorizer\n",
    "from sklearn.cluster import KMeans"
   ]
  },
  {
   "cell_type": "code",
   "execution_count": 2,
   "metadata": {
    "collapsed": true
   },
   "outputs": [],
   "source": [
    "def srt_to_str(f):\n",
    "    '''Convert a .srt file to a flat string (loses time info)'''\n",
    "    \n",
    "    text_lines = []\n",
    "    while True:\n",
    "        _seq_no = f.readline().strip()\n",
    "        if _seq_no == '': break\n",
    "        _interval = f.readline()\n",
    "        \n",
    "        while True:\n",
    "            text_line = f.readline().strip()\n",
    "            if text_line == '': break\n",
    "            text_lines.append(text_line)\n",
    "            \n",
    "    return ' '.join(text_lines)"
   ]
  },
  {
   "cell_type": "code",
   "execution_count": 3,
   "metadata": {
    "collapsed": false
   },
   "outputs": [],
   "source": [
    "SRT_FILE_NAMES = [\n",
    "    '/Users/andrewlamb/Google_Drive/Stanford/CS199/stanford-online-ee364/Convex Sets.srt',\n",
    "    '/Users/andrewlamb/Google_Drive/Stanford/CS199/stanford-online-ee364/Lecture 06   Approximation and fitting v2.srt',\n",
    "    '/Users/andrewlamb/Google_Drive/Stanford/CS199/stanford-online-ee364/Lecture 11 - Equality constrained minimization.srt',\n",
    "    '/Users/andrewlamb/Google_Drive/Stanford/CS199/stanford-online-ee364/EE364A LEC10 130207 v3.srt',\n",
    "    '/Users/andrewlamb/Google_Drive/Stanford/CS199/stanford-online-ee364/Lecture 06   Approximation and fitting ver 1.srt',\n",
    "    '/Users/andrewlamb/Google_Drive/Stanford/CS199/stanford-online-ee364/Lecture 12   Interior point methods v1.srt',\n",
    "    '/Users/andrewlamb/Google_Drive/Stanford/CS199/stanford-online-ee364/EE364A lec11 130212 v3 071613.srt',\n",
    "    '/Users/andrewlamb/Google_Drive/Stanford/CS199/stanford-online-ee364/Lecture 07   Statistical estimation v1.srt',\n",
    "    '/Users/andrewlamb/Google_Drive/Stanford/CS199/stanford-online-ee364/Lecture 12 - Interior point methods.srt',\n",
    "    '/Users/andrewlamb/Google_Drive/Stanford/CS199/stanford-online-ee364/Lecture 01 - Introduction.srt',\n",
    "    '/Users/andrewlamb/Google_Drive/Stanford/CS199/stanford-online-ee364/Lecture 08   Geometric problems v1.srt',\n",
    "    '/Users/andrewlamb/Google_Drive/Stanford/CS199/stanford-online-ee364/Lecture 13   Conclusions v1.srt',\n",
    "    '/Users/andrewlamb/Google_Drive/Stanford/CS199/stanford-online-ee364/Lecture 03 - Convex functions.srt',\n",
    "    '/Users/andrewlamb/Google_Drive/Stanford/CS199/stanford-online-ee364/Lecture 09 Numerical linear algebra background.srt',\n",
    "    '/Users/andrewlamb/Google_Drive/Stanford/CS199/stanford-online-ee364/ee364a lecture 12 ver3 072613.srt',\n",
    "    '/Users/andrewlamb/Google_Drive/Stanford/CS199/stanford-online-ee364/Lecture 04   Convex optimization problems v1.srt',\n",
    "    '/Users/andrewlamb/Google_Drive/Stanford/CS199/stanford-online-ee364/Lecture 10   Unconstrained minimization v1.srt',\n",
    "    '/Users/andrewlamb/Google_Drive/Stanford/CS199/stanford-online-ee364/Lecture 05   Duality.srt',\n",
    "    '/Users/andrewlamb/Google_Drive/Stanford/CS199/stanford-online-ee364/Lecture 11   Equality constrained minimization.srt',\n",
    "]\n",
    "\n",
    "lecture_names = [os.path.basename(name)[:-4] for name in SRT_FILE_NAMES]\n",
    "\n",
    "documents = []\n",
    "for name in SRT_FILE_NAMES:\n",
    "    with open(name) as f:\n",
    "        documents.append(srt_to_str(f))"
   ]
  },
  {
   "cell_type": "code",
   "execution_count": 4,
   "metadata": {
    "collapsed": false
   },
   "outputs": [],
   "source": [
    "# http://www.ranks.nl/stopwords default list\n",
    "stop_words = [\"a\",\"about\",\"above\",\"after\",\"again\",\"against\",\"all\",\"am\",\"an\",\"and\",\"any\",\"are\",\"aren't\",\"as\",\"at\",\"be\",\"because\",\"been\",\"before\",\"being\",\"below\",\"between\",\"both\",\"but\",\"by\",\"can't\",\"cannot\",\"could\",\"couldn't\",\"did\",\"didn't\",\"do\",\"does\",\"doesn't\",\"doing\",\"don't\",\"down\",\"during\",\"each\",\"few\",\"for\",\"from\",\"further\",\"had\",\"hadn't\",\"has\",\"hasn't\",\"have\",\"haven't\",\"having\",\"he\",\"he'd\",\"he'll\",\"he's\",\"her\",\"here\",\"here's\",\"hers\",\"herself\",\"him\",\"himself\",\"his\",\"how\",\"how's\",\"i\",\"i'd\",\"i'll\",\"i'm\",\"i've\",\"if\",\"in\",\"into\",\"is\",\"isn't\",\"it\",\"it's\",\"its\",\"itself\",\"let's\",\"me\",\"more\",\"most\",\"mustn't\",\"my\",\"myself\",\"no\",\"nor\",\"not\",\"of\",\"off\",\"on\",\"once\",\"only\",\"or\",\"other\",\"ought\",\"our\",\"ours\tourselves\",\"out\",\"over\",\"own\",\"same\",\"shan't\",\"she\",\"she'd\",\"she'll\",\"she's\",\"should\",\"shouldn't\",\"so\",\"some\",\"such\",\"than\",\"that\",\"that's\",\"the\",\"their\",\"theirs\",\"them\",\"themselves\",\"then\",\"there\",\"there's\",\"these\",\"they\",\"they'd\",\"they'll\",\"they're\",\"they've\",\"this\",\"those\",\"through\",\"to\",\"too\",\"under\",\"until\",\"up\",\"very\",\"was\",\"wasn't\",\"we\",\"we'd\",\"we'll\",\"we're\",\"we've\",\"were\",\"weren't\",\"what\",\"what's\",\"when\",\"when's\",\"where\",\"where's\",\"which\",\"while\",\"who\",\"who's\",\"whom\",\"why\",\"why's\",\"with\",\"won't\",\"would\",\"wouldn't\",\"you\",\"you'd\",\"you'll\",\"you're\",\"you've\",\"your\",\"yours\",\"yourself\",\"yourselves\"]\n",
    "# Add a few words\n",
    "stop_words.extend([\"okay\", \"like\", \"know\", \"something\", \"can\", \"says\", \"right\", \"one\", \"just\", \"actually\", \"things\"])\n",
    "tfidf = TfidfVectorizer(stop_words=stop_words)\n",
    "X = tfidf.fit_transform(documents)"
   ]
  },
  {
   "cell_type": "code",
   "execution_count": 5,
   "metadata": {
    "collapsed": false
   },
   "outputs": [
    {
     "name": "stdout",
     "output_type": "stream",
     "text": [
      "Most common terms for Convex Sets: [u'points', u'theta', u'convex', u'cone', u'set']\n",
      "Most common terms for Lecture 06   Approximation and fitting v2: [u'll', u'mean', u'going', u'norm', u're']\n",
      "Most common terms for Lecture 11 - Equality constrained minimization: [u'way', u'method', u'going', u're', u'newton']\n",
      "Most common terms for EE364A LEC10 130207 v3: [u'going', u'mean', u'problem', u'norm', u're']\n",
      "Most common terms for Lecture 06   Approximation and fitting ver 1: [u'now', u'mean', u'going', u'norm', u're']\n",
      "Most common terms for Lecture 12   Interior point methods v1: [u'now', u'going', u'mu', u're', u'newton']\n",
      "Most common terms for EE364A lec11 130212 v3 071613: [u'experiment', u'going', u'likelihood', u'say', u'distribution']\n",
      "Most common terms for Lecture 07   Statistical estimation v1: [u'experiment', u'going', u'likelihood', u'say', u'distribution']\n",
      "Most common terms for Lecture 12 - Interior point methods: [u'now', u'going', u're', u'mu', u'newton']\n",
      "Most common terms for Lecture 01 - Introduction: [u'problem', u'programming', u'say', u're', u'll']\n",
      "Most common terms for Lecture 08   Geometric problems v1: [u'volume', u're', u'set', u'mean', u'ellipsoid']\n",
      "Most common terms for Lecture 13   Conclusions v1: [u'global', u'mean', u'convex', u'problems', u'say']\n",
      "Most common terms for Lecture 03 - Convex functions: [u'way', u'log', u'concave', u'function', u'convex']\n",
      "Most common terms for Lecture 09 Numerical linear algebra background: [u'flops', u'solve', u'matrix', u're', u'factorization']\n",
      "Most common terms for ee364a lecture 12 ver3 072613: [u'volume', u'set', u'mean', u're', u'ellipsoid']\n",
      "Most common terms for Lecture 04   Convex optimization problems v1: [u'linear', u'll', u'convex', u'say', u'problem']\n",
      "Most common terms for Lecture 10   Unconstrained minimization v1: [u'way', u'gradient', u'going', u're', u'newton']\n",
      "Most common terms for Lecture 05   Duality: [u'lambda', u'bound', u'dual', u'star', u'problem']\n",
      "Most common terms for Lecture 11   Equality constrained minimization: [u'solve', u'method', u'going', u're', u'newton']\n"
     ]
    }
   ],
   "source": [
    "inverse_voc = {v: k for k, v in tfidf.vocabulary_.items()}\n",
    "most_common_terms = []\n",
    "\n",
    "for idx in range(len(documents)):\n",
    "    row = X[idx,:].toarray().flatten()\n",
    "    max_indices = row.argsort()[-5:]\n",
    "    most_common_terms.append([inverse_voc[voc_idx] for voc_idx in max_indices])\n",
    "\n",
    "for name, terms in zip(lecture_names, most_common_terms):\n",
    "    print 'Most common terms for {}: {}'.format(name, terms)"
   ]
  },
  {
   "cell_type": "code",
   "execution_count": 6,
   "metadata": {
    "collapsed": false
   },
   "outputs": [],
   "source": [
    "kmeans = KMeans(n_clusters=4)\n",
    "\n",
    "clusters = kmeans.fit_predict(X)"
   ]
  },
  {
   "cell_type": "code",
   "execution_count": 7,
   "metadata": {
    "collapsed": false
   },
   "outputs": [
    {
     "name": "stdout",
     "output_type": "stream",
     "text": [
      "[['Lecture 06   Approximation and fitting v2',\n",
      "  'EE364A LEC10 130207 v3',\n",
      "  'Lecture 06   Approximation and fitting ver 1',\n",
      "  'Lecture 09 Numerical linear algebra background'],\n",
      " ['Lecture 11 - Equality constrained minimization',\n",
      "  'Lecture 12   Interior point methods v1',\n",
      "  'Lecture 12 - Interior point methods',\n",
      "  'Lecture 10   Unconstrained minimization v1',\n",
      "  'Lecture 11   Equality constrained minimization'],\n",
      " ['EE364A lec11 130212 v3 071613', 'Lecture 07   Statistical estimation v1'],\n",
      " ['Convex Sets',\n",
      "  'Lecture 01 - Introduction',\n",
      "  'Lecture 08   Geometric problems v1',\n",
      "  'Lecture 13   Conclusions v1',\n",
      "  'Lecture 03 - Convex functions',\n",
      "  'ee364a lecture 12 ver3 072613',\n",
      "  'Lecture 04   Convex optimization problems v1',\n",
      "  'Lecture 05   Duality']]\n"
     ]
    }
   ],
   "source": [
    "cluster_assignments = {}\n",
    "for idx, cluster_assignment in enumerate(clusters):\n",
    "    if cluster_assignment not in cluster_assignments:\n",
    "        cluster_assignments[cluster_assignment] = [lecture_names[idx]]\n",
    "    else:\n",
    "        cluster_assignments[cluster_assignment].append(lecture_names[idx])\n",
    "\n",
    "pprint(cluster_assignments.values())"
   ]
  },
  {
   "cell_type": "code",
   "execution_count": null,
   "metadata": {
    "collapsed": true
   },
   "outputs": [],
   "source": []
  }
 ],
 "metadata": {
  "kernelspec": {
   "display_name": "Python 2",
   "language": "python",
   "name": "python2"
  },
  "language_info": {
   "codemirror_mode": {
    "name": "ipython",
    "version": 2
   },
   "file_extension": ".py",
   "mimetype": "text/x-python",
   "name": "python",
   "nbconvert_exporter": "python",
   "pygments_lexer": "ipython2",
   "version": "2.7.10"
  }
 },
 "nbformat": 4,
 "nbformat_minor": 0
}
