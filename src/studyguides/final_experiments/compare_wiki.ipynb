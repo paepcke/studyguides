{
 "cells": [
  {
   "cell_type": "code",
   "execution_count": 1,
   "metadata": {
    "collapsed": true
   },
   "outputs": [],
   "source": [
    "import nltk\n",
    "import os\n",
    "import functools\n",
    "\n",
    "from collections import defaultdict\n",
    "\n",
    "import numpy as np"
   ]
  },
  {
   "cell_type": "code",
   "execution_count": 10,
   "metadata": {
    "collapsed": false
   },
   "outputs": [
    {
     "data": {
      "text/plain": [
       "{'07_01_Relational_Design_Overview_Part_4.txt',\n",
       " '07_02_Functional_Dependencies_Part_2.txt',\n",
       " '07_02_Functional_Dependencies_Part_4.txt',\n",
       " '07_03_Boyce_Codd_Normal_Form_Part_2.txt',\n",
       " '07_03_Boyce_Codd_Normal_Form_Part_3.txt',\n",
       " '07_04_Multivalued_Dependencies_and_4th_Normal_Form_Part_2.txt',\n",
       " '07_04_Multivalued_Dependencies_and_4th_Normal_Form_Part_4.txt',\n",
       " '07_05_Shortcomings_of_BCNF_and_4NF.txt',\n",
       " '13_05_Materialized_Views_Part_2.txt',\n",
       " '13_05_Materialized_Views_Part_3.txt',\n",
       " '14_01_Authorization_Part_4.txt'}"
      ]
     },
     "execution_count": 10,
     "metadata": {},
     "output_type": "execute_result"
    }
   ],
   "source": [
    "set(list(zip(*raters[1]))[0]) - set(list(zip(*raters[0]))[0])"
   ]
  },
  {
   "cell_type": "code",
   "execution_count": 2,
   "metadata": {
    "collapsed": false
   },
   "outputs": [],
   "source": [
    "stemmer = nltk.PorterStemmer()\n",
    "ngrams = defaultdict(set)\n",
    "raters = []\n",
    "\n",
    "for name in os.listdir('../../../data/keywords/'):\n",
    "    with open('../../../data/keywords/' + name) as f:\n",
    "        rater = {}\n",
    "        for line in f:\n",
    "            file, term, _, rank = line.strip().split(',')\n",
    "            rank = int(rank)\n",
    "            if rank == 0:\n",
    "                rank = 6\n",
    "            tokens = term.lower().split(' ')\n",
    "            stemmed = ' '.join(stemmer.stem(token) for token in tokens)\n",
    "            rater[file, stemmed] = rank\n",
    "            \n",
    "            if len(tokens) > 1:\n",
    "                ngrams[file].add(stemmed)\n",
    "                \n",
    "        raters.append(rater)\n",
    "        \n",
    "            \n",
    "tfidf_rankings = {}\n",
    "\n",
    "with open('./wiki_keys.csv') as f:\n",
    "    for line in f:\n",
    "        doc, term, rank = line.strip().split(',')\n",
    "        rank = int(rank)\n",
    "        tokens = term.lower().split(' ')\n",
    "        stemmed = ' '.join(stemmer.stem(token) for token in tokens)\n",
    "        tfidf_rankings[doc, stemmed] = rank\n",
    "        \n",
    "        if len(tokens) > 1:\n",
    "            ngrams[file].add(stemmed)\n",
    "        \n",
    "combined_raters = {}\n",
    "combined_keys = functools.reduce(lambda x, y: x.intersection(y), [set(rater.keys()) for rater in raters])\n",
    "for key in combined_keys:\n",
    "    for rater in raters:\n",
    "        if key in rater:\n",
    "            if key not in combined_raters:\n",
    "                combined_raters[key] = rater[key]\n",
    "            else:\n",
    "                combined_raters[key] = min(combined_raters[key], rater[key])\n",
    "\n",
    "for key, val in combined_raters.items():\n",
    "    if val == 6:\n",
    "        combined_raters[key] = 0\n",
    "\n",
    "all_keys = set()\n",
    "\n",
    "for name in os.listdir('/Users/andrewlamb/Google_Drive/Stanford/CS199/DB_SelfPaced/Flat'):\n",
    "    with open('/Users/andrewlamb/Google_Drive/Stanford/CS199/DB_SelfPaced/Flat/' + name) as f:\n",
    "        lines = []\n",
    "        for line in f:\n",
    "            line = line.strip('.| \\n')\n",
    "\n",
    "            stemmed = ' '.join([stemmer.stem(token) for token in line.split(' ')])\n",
    "            lines.append(stemmed)\n",
    "        document = ' '.join(lines)\n",
    "        document = document.lower()\n",
    "\n",
    "        \n",
    "        for ngram in ngrams[name]:\n",
    "            document = document.replace(ngram, '')\n",
    "            all_keys.add((name, ngram))\n",
    "            \n",
    "        for token in document.split(' '):\n",
    "            all_keys.add((name, token))\n",
    "\n",
    "\n",
    "data = []\n",
    "for key in all_keys:\n",
    "    if key in combined_raters:\n",
    "        rank = combined_raters[key]\n",
    "        if rank > 0:\n",
    "            data.append((1, key, 1))\n",
    "        else:\n",
    "            data.append((1, key, 2))\n",
    "    else:\n",
    "        data.append((1, key, 3))\n",
    "        \n",
    "    if key in tfidf_rankings:\n",
    "        rank = tfidf_rankings[key]\n",
    "        if rank > 0:\n",
    "            data.append((2, key, 1))\n",
    "        else:\n",
    "            data.append((2, key, 2))\n",
    "    else:\n",
    "        data.append((2, key, 3))"
   ]
  },
  {
   "cell_type": "code",
   "execution_count": 3,
   "metadata": {
    "collapsed": false
   },
   "outputs": [
    {
     "name": "stdout",
     "output_type": "stream",
     "text": [
      "(2, ('02_02_Querying_Relational_Databases.txt', 'have'), 3)\n",
      "(1, ('14_01_Authorization_Part_4.txt', 'separ'), 3)\n",
      "(1, ('03_01_Well_Formed_XML_Part_2.txt', 'thorugh'), 3)\n",
      "(1, ('10_01_Indexes_Part_2.txt', 'them'), 3)\n",
      "(1, ('08_04_XQuery_Demo.txt', 'x'), 3)\n",
      "(1, ('07_03_Boyce_Codd_Normal_Form_Part_3.txt', '2,'), 3)\n",
      "(2, ('06_04_Subqueries_in_WHERE_Clause.txt', \"didn't\"), 3)\n",
      "(2, ('08_02_XPath_Demo.txt', 'type'), 3)\n",
      "(2, ('05_02_Set_Operators_Renaming_Notation_Part_1.txt', 'in'), 3)\n",
      "(2, ('12_01_Motivation_and_Overview.txt', 'use'), 3)\n",
      "################################################################################\n",
      "(1, ('05_01_Select_Project_Join_Part_1.txt', 'relat algebra queri languag'), 1)\n",
      "(2, ('07_04_Multivalued_Dependencies_and_4th_Normal_Form_Part_3.txt', 'student'), 1)\n",
      "(1, ('07_01_Relational_Design_Overview_Part_2.txt', 'fourth normal form'), 1)\n",
      "(2, ('07_01_Functional_Dependencies_Part_5.txt', 'relat'), 1)\n",
      "(2, ('15_02_Basic_Recursive_WITH_Statement_Demo.txt', 'tabl'), 1)\n",
      "(1, ('08_04_XQuery_Demo.txt', 'flwor express'), 1)\n",
      "(1, ('12_04_Triggers_Introduction.txt', 'cycl'), 1)\n",
      "(1, ('05_01_Select_Project_Join_Part_2.txt', 'cartesian product'), 1)\n",
      "(2, ('17_01_NoSQLOverview.txt', 'queri'), 1)\n",
      "(1, ('02_01_The_Relational_Model.txt', 'attribut'), 1)\n",
      "################################################################################\n",
      "(1, ('01_01_Introduction.txt', 'concurr control'), 2)\n",
      "(2, ('12_01_Motivation_and_Overview.txt', 'talk'), 2)\n",
      "(1, ('17_01_NoSQLOverview.txt', 'column store'), 2)\n",
      "(2, ('02_01_The_Relational_Model.txt', 'tupl'), 2)\n",
      "(2, ('06_03_Table_Variables_and_Set_Operators.txt', 'attribut'), 2)\n",
      "(2, ('01_01_Introduction.txt', 'relat'), 2)\n",
      "(2, ('17_01_NoSQLMotivation.txt', 'oper'), 2)\n",
      "(2, ('06_07_Data_Modification_Statements.txt', 'result'), 2)\n",
      "(2, ('06_07_Data_Modification_Statements.txt', 'major'), 2)\n",
      "(2, ('12_05_Triggers_Demo_Part_1.txt', 'updat'), 2)\n"
     ]
    }
   ],
   "source": [
    "# Print a few random data points to spot check\n",
    "for i in np.random.choice(range(len(data)), size=10, replace=False):\n",
    "    print(data[i])\n",
    "    \n",
    "print('#'*80)\n",
    "\n",
    "# Print a few that are definitely included in the index\n",
    "cat_1 = [item for item in data if item[2] == 1]\n",
    "for i in np.random.choice(range(len(cat_1)), size=10, replace=False):\n",
    "    print(cat_1[i])\n",
    "print('#'*80)\n",
    "    \n",
    "# Print a few in category 2\n",
    "cat_2 = [item for item in data if item[2] == 2]\n",
    "for i in np.random.choice(range(len(cat_2)), size=10, replace=False):\n",
    "    print(cat_2[i])"
   ]
  },
  {
   "cell_type": "code",
   "execution_count": 4,
   "metadata": {
    "collapsed": false
   },
   "outputs": [
    {
     "data": {
      "text/plain": [
       "0.0028326595397245584"
      ]
     },
     "execution_count": 4,
     "metadata": {},
     "output_type": "execute_result"
    }
   ],
   "source": [
    "t = nltk.AnnotationTask(data=data)\n",
    "t.kappa()"
   ]
  },
  {
   "cell_type": "code",
   "execution_count": null,
   "metadata": {
    "collapsed": true
   },
   "outputs": [],
   "source": []
  }
 ],
 "metadata": {
  "kernelspec": {
   "display_name": "Python 3",
   "language": "python",
   "name": "python3"
  },
  "language_info": {
   "codemirror_mode": {
    "name": "ipython",
    "version": 3
   },
   "file_extension": ".py",
   "mimetype": "text/x-python",
   "name": "python",
   "nbconvert_exporter": "python",
   "pygments_lexer": "ipython3",
   "version": "3.3.5"
  }
 },
 "nbformat": 4,
 "nbformat_minor": 0
}
