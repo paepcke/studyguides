{
 "cells": [
  {
   "cell_type": "code",
   "execution_count": 1,
   "metadata": {
    "collapsed": true
   },
   "outputs": [],
   "source": [
    "import nltk\n",
    "import os\n",
    "    \n",
    "from collections import defaultdict\n",
    "\n",
    "import numpy as np"
   ]
  },
  {
   "cell_type": "code",
   "execution_count": 2,
   "metadata": {
    "collapsed": false
   },
   "outputs": [],
   "source": [
    "# Stem all the keywords \n",
    "stemmer = nltk.PorterStemmer()\n",
    "# Collect all n-grams that raters extract.\n",
    "# We count a phrase if it is a 1-gram or it is a n-gram and any rater tagged it\n",
    "ngrams = defaultdict(set)\n",
    "# Each rater is a dict (filename, phrase) => ranking. \n",
    "# Ranking is 0 if it is not in the top-5.\n",
    "raters = []\n",
    "\n",
    "for name in os.listdir('../../../data/keywords/'):\n",
    "    with open('../../../data/keywords/' + name) as f:\n",
    "        rater = {}\n",
    "        for line in f:\n",
    "            file, term, _, rank = line.strip().split(',')\n",
    "            rank = int(rank)\n",
    "            tokens = term.lower().split(' ')\n",
    "            stemmed = ' '.join(stemmer.stem(token) for token in tokens)\n",
    "            rater[file, stemmed] = rank\n",
    "            \n",
    "            if len(tokens) > 1:\n",
    "                ngrams[file].add(stemmed)\n",
    "                \n",
    "        raters.append(rater)\n",
    "            \n",
    "all_keys = set()\n",
    "\n",
    "for name in os.listdir('../../../data/Introduction_to_Databases_Captions'):\n",
    "    with open('../../../data/Introduction_to_Databases_Captions/' + name) as f:\n",
    "        # Open up each transcript file and stem it.\n",
    "        lines = []\n",
    "        for line in f:\n",
    "            line = unicode(line.strip('.| \\n'), 'utf-8')\n",
    "\n",
    "            stemmed = ' '.join([stemmer.stem(token) for token in line.split(' ')])\n",
    "            lines.append(stemmed)\n",
    "        document = ' '.join(lines)\n",
    "        document = document.lower()\n",
    "        \n",
    "        # Remove all n-grams from the document and add them as keys.\n",
    "        for ngram in ngrams[name]:\n",
    "            document = document.replace(ngram, '')\n",
    "            all_keys.add((name, ngram))\n",
    "            \n",
    "        # Add all the remaining 1-grams as keys.\n",
    "        for token in document.split(' '):\n",
    "            all_keys.add((name, token))\n",
    "\n",
    "data = []\n",
    "# Data is a list with tuples (rater num, (file, phrase), category)\n",
    "for key in all_keys:\n",
    "    for i, rater in enumerate(raters):\n",
    "        if key in rater:\n",
    "            data.append((i, key, 'keyword'))\n",
    "        else:\n",
    "            data.append((i, key, 'not keyword'))\n",
    "        \n",
    "# Filter the dataset to files that all raters have tagged.\n",
    "intersection_files = reduce(\n",
    "    lambda x, y: set(x).intersection(y),\n",
    "    [set(zip(*rater.keys())[0]) for rater in raters]\n",
    ")\n",
    "\n",
    "data = [item for item in data if item[1][0] in intersection_files]        "
   ]
  },
  {
   "cell_type": "code",
   "execution_count": 3,
   "metadata": {
    "collapsed": false
   },
   "outputs": [
    {
     "name": "stdout",
     "output_type": "stream",
     "text": [
      "(2, ('04_02_JSON_Demo.txt', u'properties,'), 'not keyword')\n",
      "(0, ('06_01_Introduction_to_SQL.txt', u'way,'), 'not keyword')\n",
      "(0, ('04_01_Introduction_to_JSON_Data_Part_2.txt', u'mean'), 'not keyword')\n",
      "(1, ('06_01_Introduction_to_SQL.txt', u'familiar'), 'not keyword')\n",
      "(2, ('06_06_NULL_Values.txt', u'evalu'), 'not keyword')\n",
      "(2, ('05_01_Select_Project_Join_Part_3.txt', u'look'), 'not keyword')\n",
      "(2, ('05_01_Select_Project_Join_Part_1.txt', u'3.7--and'), 'not keyword')\n",
      "(2, ('02_02_Querying_Relational_Databases.txt', u'execut'), 'not keyword')\n",
      "(2, ('04_01_Introduction_to_JSON_Data_Part_2.txt', u'xslt'), 'not keyword')\n",
      "(1, ('03_02_DTDs_IDs_and_IDREFs.txt', u'plural'), 'not keyword')\n",
      "################################################################################\n",
      "(0, ('02_01_The_Relational_Model.txt', u'relat'), 'keyword')\n",
      "(1, ('05_01_Select_Project_Join_Part_2.txt', u'cross product'), 'keyword')\n",
      "(0, ('03_02_DTDs_IDs_and_IDREFs.txt', u'kleen'), 'keyword')\n",
      "(1, ('06_05_Aggregation.txt', u'order by'), 'keyword')\n",
      "(1, ('02_02_Querying_Relational_Databases.txt', u'specif queri'), 'keyword')\n",
      "(0, ('06_02_Basic_SELECT_Statement.txt', u'distinct'), 'keyword')\n",
      "(1, ('05_02_Set_Operators_Renaming_Notation_Part_1.txt', u'intersect'), 'keyword')\n",
      "(1, ('06_07_Data_Modification_Statements.txt', u'delet data'), 'keyword')\n",
      "(1, ('04_01_Introduction_to_JSON_Data_Part_2.txt', u'xslt'), 'keyword')\n",
      "(0, ('06_08_The_JOIN_Family_of_Operators.txt', u'join famili of oper'), 'keyword')\n",
      "################################################################################\n",
      "(0, ('03_01_Well_Formed_XML_Part_1.txt', u'exchange,'), 'not keyword')\n",
      "(2, ('03_02_DTDs_IDs_and_IDREFs.txt', u'constructs,'), 'not keyword')\n",
      "(2, ('03_02_DTDs_IDs_and_IDREFs.txt', u'familiar'), 'not keyword')\n",
      "(1, ('06_04_Subqueries_in_WHERE_Clause.txt', u'where'), 'not keyword')\n",
      "(2, ('05_02_Set_Operators_Renaming_Notation_Part_3.txt', u'much'), 'not keyword')\n",
      "(2, ('06_05_Aggregation.txt', u'no'), 'not keyword')\n",
      "(1, ('06_01_Introduction_to_SQL.txt', u'call'), 'not keyword')\n",
      "(1, ('03_02_DTDs_IDs_and_IDREFs.txt', u'my'), 'not keyword')\n",
      "(2, ('04_01_Introduction_to_JSON_Data_Part_1.txt', u'thought'), 'not keyword')\n",
      "(0, ('06_05_Aggregation.txt', u'size'), 'not keyword')\n"
     ]
    }
   ],
   "source": [
    "# Print a few random data points to spot check\n",
    "for i in np.random.choice(range(len(data)), size=10, replace=False):\n",
    "    print(data[i])\n",
    "    \n",
    "print('#'*80)\n",
    "\n",
    "# Print a few that are included in the index\n",
    "cat_1 = [item for item in data if item[2] == 'keyword']\n",
    "for i in np.random.choice(range(len(cat_1)), size=10, replace=False):\n",
    "    print(cat_1[i])\n",
    "print('#'*80)\n",
    "    \n",
    "# Print a few that aren't included in the index\n",
    "cat_2 = [item for item in data if item[2] == 'not keyword']\n",
    "for i in np.random.choice(range(len(cat_2)), size=10, replace=False):\n",
    "    print(cat_2[i])"
   ]
  },
  {
   "cell_type": "code",
   "execution_count": 4,
   "metadata": {
    "collapsed": false
   },
   "outputs": [
    {
     "data": {
      "text/plain": [
       "0.327447316762549"
      ]
     },
     "execution_count": 4,
     "metadata": {},
     "output_type": "execute_result"
    }
   ],
   "source": [
    "# Get the kappa.\n",
    "t = nltk.AnnotationTask(data=data)\n",
    "t.multi_kappa()"
   ]
  },
  {
   "cell_type": "code",
   "execution_count": 5,
   "metadata": {
    "collapsed": false
   },
   "outputs": [
    {
     "data": {
      "text/plain": [
       "0.3714989389464814"
      ]
     },
     "execution_count": 5,
     "metadata": {},
     "output_type": "execute_result"
    }
   ],
   "source": [
    "t.kappa_pairwise(0, 1)"
   ]
  },
  {
   "cell_type": "code",
   "execution_count": 6,
   "metadata": {
    "collapsed": false
   },
   "outputs": [
    {
     "data": {
      "text/plain": [
       "0.27181561700679585"
      ]
     },
     "execution_count": 6,
     "metadata": {},
     "output_type": "execute_result"
    }
   ],
   "source": [
    "t.kappa_pairwise(0, 2)"
   ]
  },
  {
   "cell_type": "code",
   "execution_count": 7,
   "metadata": {
    "collapsed": false
   },
   "outputs": [
    {
     "data": {
      "text/plain": [
       "0.31090735838258493"
      ]
     },
     "execution_count": 7,
     "metadata": {},
     "output_type": "execute_result"
    }
   ],
   "source": [
    "t.kappa_pairwise(1, 2)"
   ]
  },
  {
   "cell_type": "code",
   "execution_count": null,
   "metadata": {
    "collapsed": true
   },
   "outputs": [],
   "source": []
  }
 ],
 "metadata": {
  "kernelspec": {
   "display_name": "Python 2",
   "language": "python",
   "name": "python2"
  },
  "language_info": {
   "codemirror_mode": {
    "name": "ipython",
    "version": 2
   },
   "file_extension": ".py",
   "mimetype": "text/x-python",
   "name": "python",
   "nbconvert_exporter": "python",
   "pygments_lexer": "ipython2",
   "version": "2.7.11"
  }
 },
 "nbformat": 4,
 "nbformat_minor": 0
}
