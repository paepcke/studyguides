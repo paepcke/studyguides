{
 "cells": [
  {
   "cell_type": "code",
   "execution_count": 1,
   "metadata": {
    "collapsed": true
   },
   "outputs": [],
   "source": [
    "import nltk\n",
    "import os\n",
    "    \n",
    "from collections import defaultdict\n",
    "\n",
    "import numpy as np"
   ]
  },
  {
   "cell_type": "code",
   "execution_count": 29,
   "metadata": {
    "collapsed": false
   },
   "outputs": [
    {
     "ename": "IOError",
     "evalue": "[Errno 2] No such file or directory: '/Profiles/andrewl3/Downloads/Introduction_to_Databases_Captions01_01_Introduction.txt'",
     "output_type": "error",
     "traceback": [
      "\u001b[0;31m---------------------------------------------------------------------------\u001b[0m",
      "\u001b[0;31mIOError\u001b[0m                                   Traceback (most recent call last)",
      "\u001b[0;32m<ipython-input-29-663ec247efe4>\u001b[0m in \u001b[0;36m<module>\u001b[0;34m()\u001b[0m\n\u001b[1;32m     28\u001b[0m \u001b[0;34m\u001b[0m\u001b[0m\n\u001b[1;32m     29\u001b[0m \u001b[0;32mfor\u001b[0m \u001b[0mname\u001b[0m \u001b[0;32min\u001b[0m \u001b[0mos\u001b[0m\u001b[0;34m.\u001b[0m\u001b[0mlistdir\u001b[0m\u001b[0;34m(\u001b[0m\u001b[0;34m'/Profiles/andrewl3/Downloads/Introduction_to_Databases_Captions'\u001b[0m\u001b[0;34m)\u001b[0m\u001b[0;34m:\u001b[0m\u001b[0;34m\u001b[0m\u001b[0m\n\u001b[0;32m---> 30\u001b[0;31m     \u001b[0;32mwith\u001b[0m \u001b[0mopen\u001b[0m\u001b[0;34m(\u001b[0m\u001b[0;34m'/Profiles/andrewl3/Downloads/Introduction_to_Databases_Captions'\u001b[0m \u001b[0;34m+\u001b[0m \u001b[0mname\u001b[0m\u001b[0;34m)\u001b[0m \u001b[0;32mas\u001b[0m \u001b[0mf\u001b[0m\u001b[0;34m:\u001b[0m\u001b[0;34m\u001b[0m\u001b[0m\n\u001b[0m\u001b[1;32m     31\u001b[0m         \u001b[0;31m# Open up each transcript file and stem it.\u001b[0m\u001b[0;34m\u001b[0m\u001b[0;34m\u001b[0m\u001b[0m\n\u001b[1;32m     32\u001b[0m         \u001b[0mlines\u001b[0m \u001b[0;34m=\u001b[0m \u001b[0;34m[\u001b[0m\u001b[0;34m]\u001b[0m\u001b[0;34m\u001b[0m\u001b[0m\n",
      "\u001b[0;31mIOError\u001b[0m: [Errno 2] No such file or directory: '/Profiles/andrewl3/Downloads/Introduction_to_Databases_Captions01_01_Introduction.txt'"
     ]
    }
   ],
   "source": [
    "# Stem all the keywords \n",
    "stemmer = nltk.PorterStemmer()\n",
    "# Collect all n-grams that raters extract.\n",
    "# We count a phrase if it is a 1-gram or it is a n-gram and any rater tagged it\n",
    "ngrams = defaultdict(set)\n",
    "# Each rater is a dict (filename, phrase) => ranking. \n",
    "# Ranking is 0 if it is not in the top-5.\n",
    "raters = []\n",
    "\n",
    "# We might not want to include the rater w/ only the first 6 units.\n",
    "for name in ['rater1.csv', 'rater2.csv', 'rater3.csv']:\n",
    "# for name in os.listdir('../../../data/keywords/'):\n",
    "    with open('/Profiles/andrewl3/Documents/studyguides/src/studyguides/util/' + name) as f:\n",
    "        rater = {}\n",
    "        for line in f:\n",
    "            file, term, _, rank = line.strip().split(',')\n",
    "            rank = int(rank)\n",
    "            tokens = term.lower().split(' ')\n",
    "            stemmed = ' '.join(stemmer.stem(token) for token in tokens)\n",
    "            rater[file, stemmed] = rank\n",
    "            \n",
    "            if len(tokens) > 1:\n",
    "                ngrams[file].add(stemmed)\n",
    "                \n",
    "        raters.append(rater)\n",
    "            \n",
    "all_keys = set()\n",
    "\n",
    "for name in os.listdir('/Profiles/andrewl3/Downloads/Introduction_to_Databases_Captions'):\n",
    "    with open('/Profiles/andrewl3/Downloads/Introduction_to_Databases_Captions/' + name) as f:\n",
    "        # Open up each transcript file and stem it.\n",
    "        lines = []\n",
    "        for line in f:\n",
    "            line = line.strip('.| \\n')\n",
    "\n",
    "            stemmed = ' '.join([stemmer.stem(token) for token in line.split(' ')])\n",
    "            lines.append(stemmed)\n",
    "        document = ' '.join(lines)\n",
    "        document = document.lower()\n",
    "        \n",
    "        # Remove all n-grams from the document and add them as keys.\n",
    "        for ngram in ngrams[name]:\n",
    "            document = document.replace(ngram, '')\n",
    "            all_keys.add((name, ngram))\n",
    "            \n",
    "        # Add all the remaining 1-grams as keys.\n",
    "        for token in document.split(' '):\n",
    "            all_keys.add((name, token))\n",
    "\n",
    "data = []\n",
    "# Data is a list with tuples (rater num, (file, phrase), category)\n",
    "for key in all_keys:\n",
    "    for i, rater in enumerate(raters):\n",
    "        if key in rater:\n",
    "            data.append((i, key, 'keyword'))\n",
    "        else:\n",
    "            data.append((i, key, 'not keyword'))\n",
    "        \n",
    "# Filter the dataset to files that all raters have tagged.\n",
    "intersection_files = reduce(\n",
    "    lambda x, y: set(x).intersection(y),\n",
    "    [set(zip(*rater.keys())[0]) for rater in raters]\n",
    ")\n",
    "\n",
    "data = [item for item in data if item[1][0] in intersection_files]        "
   ]
  },
  {
   "cell_type": "code",
   "execution_count": 17,
   "metadata": {
    "collapsed": false
   },
   "outputs": [
    {
     "name": "stdout",
     "output_type": "stream",
     "text": [
      "(0, ('06_04_Subqueries_in_WHERE_Clause.txt', u'relat'), 'not keyword')\n",
      "(2, ('03_02_XML_Schema.txt', u'onli'), 'not keyword')\n",
      "(0, ('06_03_Table_Variables_and_Set_Operators.txt', u'purpos'), 'not keyword')\n",
      "(0, ('06_06_NULL_Values.txt', u'even'), 'not keyword')\n",
      "(2, ('06_04_Subqueries_in_WHERE_Clause.txt', u'within'), 'not keyword')\n",
      "(2, ('05_01_Select_Project_Join_Part_3.txt', u'expression,'), 'not keyword')\n",
      "(2, ('04_01_Introduction_to_JSON_Data_Part_2.txt', u'mayb'), 'not keyword')\n",
      "(1, ('03_01_Well_Formed_XML_Part_2.txt', u'later'), 'not keyword')\n",
      "(1, ('06_03_Table_Variables_and_Set_Operators.txt', u'video,'), 'not keyword')\n",
      "(1, ('06_04_Subqueries_in_WHERE_Clause.txt', u'reminder,'), 'not keyword')\n",
      "################################################################################\n",
      "(1, ('06_05_Aggregation.txt', u'maximum'), 'keyword')\n",
      "(0, ('02_02_Querying_Relational_Databases.txt', u'data definit languag'), 'keyword')\n",
      "(1, ('02_01_The_Relational_Model.txt', u'key'), 'keyword')\n",
      "(1, ('04_01_Introduction_to_JSON_Data_Part_2.txt', u'queri'), 'keyword')\n",
      "(0, ('06_01_Introduction_to_SQL.txt', u'data manipul languag'), 'keyword')\n",
      "(1, ('04_01_Introduction_to_JSON_Data_Part_2.txt', u'imped mismatch'), 'keyword')\n",
      "(0, ('04_01_Introduction_to_JSON_Data_Part_1.txt', u'object'), 'keyword')\n",
      "(1, ('06_07_Data_Modification_Statements.txt', u'select statement'), 'keyword')\n",
      "(2, ('06_06_NULL_Values.txt', u'aggreg function'), 'keyword')\n",
      "(1, ('02_01_The_Relational_Model.txt', u'schema'), 'keyword')\n",
      "################################################################################\n",
      "(1, ('06_08_The_JOIN_Family_of_Operators.txt', u'by'), 'not keyword')\n",
      "(1, ('04_01_Introduction_to_JSON_Data_Part_2.txt', u'mayb'), 'not keyword')\n",
      "(2, ('03_01_Well_Formed_XML_Part_2.txt', u'becaus'), 'not keyword')\n",
      "(0, ('06_06_NULL_Values.txt', u'you'), 'not keyword')\n",
      "(2, ('05_01_Select_Project_Join_Part_3.txt', u'sinc'), 'not keyword')\n",
      "(1, ('06_05_Aggregation.txt', u'almost'), 'not keyword')\n",
      "(2, ('06_07_Data_Modification_Statements.txt', u'student,'), 'not keyword')\n",
      "(2, ('02_02_Querying_Relational_Databases.txt', u'pretti'), 'not keyword')\n",
      "(0, ('06_04_Subqueries_in_WHERE_Clause.txt', u'other'), 'not keyword')\n",
      "(2, ('03_02_DTDs_IDs_and_IDREFs.txt', u'edition,'), 'not keyword')\n"
     ]
    }
   ],
   "source": [
    "# Print a few random data points to spot check\n",
    "for i in np.random.choice(range(len(data)), size=10, replace=False):\n",
    "    print(data[i])\n",
    "    \n",
    "print('#'*80)\n",
    "\n",
    "# Print a few that are included in the index\n",
    "cat_1 = [item for item in data if item[2] == 'keyword']\n",
    "for i in np.random.choice(range(len(cat_1)), size=10, replace=False):\n",
    "    print(cat_1[i])\n",
    "print('#'*80)\n",
    "    \n",
    "# Print a few that aren't included in the index\n",
    "cat_2 = [item for item in data if item[2] == 'not keyword']\n",
    "for i in np.random.choice(range(len(cat_2)), size=10, replace=False):\n",
    "    print(cat_2[i])"
   ]
  },
  {
   "cell_type": "code",
   "execution_count": 18,
   "metadata": {
    "collapsed": false
   },
   "outputs": [
    {
     "data": {
      "text/plain": [
       "0.327447316762549"
      ]
     },
     "execution_count": 18,
     "metadata": {},
     "output_type": "execute_result"
    }
   ],
   "source": [
    "# Get the kappa.\n",
    "t = nltk.AnnotationTask(data=data)\n",
    "t.multi_kappa()"
   ]
  },
  {
   "cell_type": "code",
   "execution_count": null,
   "metadata": {
    "collapsed": true
   },
   "outputs": [],
   "source": []
  }
 ],
 "metadata": {
  "kernelspec": {
   "display_name": "Python 2",
   "language": "python",
   "name": "python2"
  },
  "language_info": {
   "codemirror_mode": {
    "name": "ipython",
    "version": 2
   },
   "file_extension": ".py",
   "mimetype": "text/x-python",
   "name": "python",
   "nbconvert_exporter": "python",
   "pygments_lexer": "ipython2",
   "version": "2.7.11"
  }
 },
 "nbformat": 4,
 "nbformat_minor": 0
}
