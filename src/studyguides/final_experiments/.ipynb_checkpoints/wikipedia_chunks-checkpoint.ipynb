{
 "cells": [
  {
   "cell_type": "code",
   "execution_count": 1,
   "metadata": {
    "collapsed": true
   },
   "outputs": [],
   "source": [
    "import os\n",
    "import nltk\n",
    "import wikipedia\n",
    "import re\n",
    "\n",
    "import numpy as np\n",
    "\n",
    "from collections import OrderedDict, defaultdict\n",
    "from sklearn.feature_extraction.text import CountVectorizer, TfidfVectorizer\n",
    "from IPython.display import display\n",
    "from ipywidgets import IntProgress"
   ]
  },
  {
   "cell_type": "code",
   "execution_count": 2,
   "metadata": {
    "collapsed": false
   },
   "outputs": [],
   "source": [
    "documents = OrderedDict()\n",
    "\n",
    "for name in os.listdir('../../../data/Introduction_to_Databases_Captions'):\n",
    "    with open('../../../data/Introduction_to_Databases_Captions/' + name) as f:\n",
    "        lines = []\n",
    "        for line in f:\n",
    "            lines.append(line.strip('| \\n'))\n",
    "        documents[name] = ' '.join(lines)\n",
    "        \n",
    "keywords = defaultdict(set)\n",
    "stemmer = nltk.stem.PorterStemmer()\n",
    "\n",
    "for name in os.listdir('../../../data/keywords/'):\n",
    "    with open('../../../data/keywords/' + name) as f:\n",
    "        for line in f:\n",
    "            lecture_name, key, _, rank = line.strip().split(',')\n",
    "            rank = int(rank)\n",
    "            key = key.replace('-', ' ')\n",
    "            key = ' '.join(stemmer.stem(token) for token in nltk.word_tokenize(key))\n",
    "            key = key.lower()\n",
    "            keywords[lecture_name].add(key)"
   ]
  },
  {
   "cell_type": "code",
   "execution_count": 3,
   "metadata": {
    "collapsed": false
   },
   "outputs": [
    {
     "name": "stderr",
     "output_type": "stream",
     "text": [
      "/Users/andrewlamb/miniconda2/lib/python2.7/site-packages/bs4/__init__.py:166: UserWarning: No parser was explicitly specified, so I'm using the best available HTML parser for this system (\"html.parser\"). This usually isn't a problem, but if you run this code on another system, or in a different virtual environment, it may use a different parser and behave differently.\n",
      "\n",
      "To get rid of this warning, change this:\n",
      "\n",
      " BeautifulSoup([your markup])\n",
      "\n",
      "to this:\n",
      "\n",
      " BeautifulSoup([your markup], \"html.parser\")\n",
      "\n",
      "  markup_type=markup_type))\n"
     ]
    }
   ],
   "source": [
    "wikipedia_documents = {}\n",
    "\n",
    "prog = IntProgress(min=0, max=len(documents))\n",
    "display(prog)\n",
    "\n",
    "for name in documents.keys():\n",
    "    search = re.sub('\\d+_\\d+', '', name)\n",
    "    search = re.sub('Part_\\d+', '', search)\n",
    "    search = search.replace('Demo', '')\n",
    "    search = search.replace('.txt', '')\n",
    "    search = search.replace('_', ' ')\n",
    "    search = search.strip()\n",
    "    search = search.lower()\n",
    "    \n",
    "    results = wikipedia.search(search)\n",
    "    \n",
    "    for result in results:\n",
    "        try:\n",
    "            page = wikipedia.page(result)\n",
    "            break\n",
    "        except wikipedia.DisambiguationError:\n",
    "            pass\n",
    "        \n",
    "    wikipedia_documents[name] = page\n",
    "    \n",
    "    prog.value += 1"
   ]
  },
  {
   "cell_type": "code",
   "execution_count": null,
   "metadata": {
    "collapsed": false
   },
   "outputs": [],
   "source": [
    "# Fix up some of the pages with bad results.\n",
    "wikipedia_documents['01_01_Introduction.txt'] = wikipedia.page('database')\n",
    "wikipedia_documents['06_02_Basic_SELECT_Statement.txt'] = wikipedia.page('select (sql)')\n",
    "wikipedia_documents['06_03_Table_Variables_and_Set_Operators.txt'] = wikipedia.page('sql')\n",
    "wikipedia_documents['06_05_Aggregation.txt'] = wikipedia.page('aggregate function')\n",
    "wikipedia_documents['06_06_NULL_Values.txt'] = wikipedia.page('sql (null)')\n",
    "wikipedia_documents['06_08_The_JOIN_Family_of_Operators.txt'] = wikipedia.page('join (sql)')\n",
    "wikipedia_documents['09_01_UML_Data_Modeling.txt'] = wikipedia.page('unified modeling language')\n",
    "wikipedia_documents['09_02_UML_to_Relations_Part_1.txt'] = wikipedia.page('unified modeling language')\n",
    "wikipedia_documents['09_02_UML_to_Relations_Part_2.txt'] = wikipedia.page('unified modeling language')\n",
    "wikipedia_documents['09_02_UML_to_Relations_Part_3.txt'] = wikipedia.page('unified modeling language')\n",
    "wikipedia_documents['10_01_Indexes_Part_1.txt'] = wikipedia.page('database index')\n",
    "wikipedia_documents['10_01_Indexes_Part_2.txt'] = wikipedia.page('database index')\n",
    "wikipedia_documents['11_01_Introduction_to_Transactions.txt'] = wikipedia.page('database transaction')\n",
    "wikipedia_documents['11_02_Transactions_Properties_Part_1.txt'] = wikipedia.page('database transaction')\n",
    "wikipedia_documents['11_02_Transactions_Properties_Part_2.txt'] = wikipedia.page('database transaction')\n",
    "wikipedia_documents['11_02_Transactions_Properties_Part_3.txt'] = wikipedia.page('database transaction')\n",
    "wikipedia_documents['12_01_Motivation_and_Overview.txt'] = wikipedia.page('database trigger')\n",
    "wikipedia_documents['12_02_Constraints_of_Several_Types_Part_1.txt'] = wikipedia.page('database')\n",
    "wikipedia_documents['12_02_Constraints_of_Several_Types_Part_2.txt'] = wikipedia.page('database')\n",
    "wikipedia_documents['12_04_Triggers_Introduction.txt'] = wikipedia.page('database trigger')\n",
    "wikipedia_documents['12_05_Triggers_Demo_Part_1.txt'] = wikipedia.page('database trigger')\n",
    "wikipedia_documents['12_05_Triggers_Demo_Part_2.txt'] = wikipedia.page('database trigger')\n",
    "wikipedia_documents['13_01_Defining_and_Using_Views.txt'] = wikipedia.page('view (sql)')\n",
    "wikipedia_documents['13_02_View_Modifications_Introduction_Part_1.txt'] = wikipedia.page('view (sql)')\n",
    "wikipedia_documents['13_02_View_Modifications_Introduction_Part_2.txt'] = wikipedia.page('view (sql)')\n",
    "wikipedia_documents['13_04_Automatic_View_Modifications.txt'] = wikipedia.page('view (sql)')\n",
    "wikipedia_documents['15_03_Nonlinear_and_Mutual_Recursion_Part_1.txt'] = wikipedia.page('recursion (computer science)')\n",
    "wikipedia_documents['15_03_Nonlinear_and_Mutual_Recursion_Part_2.txt'] = wikipedia.page('recursion (computer science)')\n",
    "wikipedia_documents['16_01_Introduction_to_OLAP_Part_1.txt'] = wikipedia.page('online analytical processing')\n",
    "wikipedia_documents['16_01_Introduction_to_OLAP_Part_2.txt'] = wikipedia.page('online analytical processing')\n",
    "wikipedia_documents['17_01_NoSQLMotivation.txt'] = wikipedia.page('nosql')\n",
    "wikipedia_documents['17_01_NoSQLOverview.txt'] = wikipedia.page('nosql')"
   ]
  },
  {
   "cell_type": "code",
   "execution_count": 4,
   "metadata": {
    "collapsed": true
   },
   "outputs": [],
   "source": [
    "combined_documents = OrderedDict()\n",
    "\n",
    "for name, document in documents.items():\n",
    "    combined_documents[name] = ' '.join([document, wikipedia_documents[name].content])"
   ]
  },
  {
   "cell_type": "code",
   "execution_count": null,
   "metadata": {
    "collapsed": false
   },
   "outputs": [],
   "source": [
    "stemmed_documents = OrderedDict()\n",
    "\n",
    "for name, document in documents.items():\n",
    "    document = document.replace('-', ' ')\n",
    "    document = ' '.join([stemmer.stem(token) for token in nltk.word_tokenize(document)])\n",
    "    stemmed_documents[name] = document.lower()\n",
    "    \n",
    "stemmed_combined_documents = OrderedDict()\n",
    "\n",
    "for name, document in combined_documents.items():\n",
    "    stemmed_combined_document = document.replace('-', ' ')\n",
    "    stemmed_combined_document = ' '.join([stemmer.stem(token) for token in nltk.word_tokenize(stemmed_combined_document)])\n",
    "    stemmed_combined_documents[name] = stemmed_combined_document.lower()"
   ]
  },
  {
   "cell_type": "code",
   "execution_count": null,
   "metadata": {
    "collapsed": true
   },
   "outputs": [],
   "source": [
    "tagged_documents = OrderedDict()\n",
    "prog = IntProgress(min=0, max=len(documents))\n",
    "display(prog)\n",
    "\n",
    "# os.environ['CLASSPATH'] = '/Users/andrewlamb/Downloads/stanford-postagger-2015-12-09'\n",
    "# os.environ['STANFORD_MODELS'] = '/Users/andrewlamb/Downloads/stanford-postagger-2015-12-09'\n",
    "# tagger = nltk.tag.StanfordPOSTagger('models/english-bidirectional-distsim.tagger')\n",
    "\n",
    "for name, doc in documents.items():\n",
    "    sents = [nltk.word_tokenize(sent) for sent in nltk.sent_tokenize(doc)]\n",
    "    tagged_documents[name] = nltk.pos_tag_sents(sents)\n",
    "    prog.value += 1"
   ]
  },
  {
   "cell_type": "code",
   "execution_count": null,
   "metadata": {
    "collapsed": true
   },
   "outputs": [],
   "source": [
    "def extract_tags(tree):\n",
    "    results = []\n",
    "    \n",
    "    if type(tree) == nltk.tree.Tree:\n",
    "        if tree.label() == 'NP':\n",
    "            phrase = ' '.join([word for word, _pos in tree])\n",
    "            phrase = phrase.lower()\n",
    "            phrase = re.sub(\"[().,']\", '', phrase)\n",
    "            phrase = re.sub('-', ' ', phrase)\n",
    "            results.append(phrase)\n",
    "\n",
    "        for child in tree:\n",
    "            results.extend(extract_tags(child))\n",
    "    \n",
    "    return results\n",
    "\n",
    "grammar = '''\n",
    "NP: {(<JJ>|<JJS>|<JJR>)*(<NN>|<NNS>|<NNP>|<NNPS>)+} \n",
    "'''\n",
    "\n",
    "cp = nltk.RegexpParser(grammar)\n",
    "candidates = []\n",
    "\n",
    "chunked_docs = []\n",
    "\n",
    "for doc in tagged_documents.values():\n",
    "    chunked_doc = []\n",
    "    for sent in doc:\n",
    "        result = cp.parse(sent)\n",
    "        chunked_doc.extend(extract_tags(result))\n",
    "        candidates.extend(extract_tags(result))\n",
    "    chunked_docs.append(chunked_doc)\n",
    "    \n",
    "candidates = list(set(candidates))"
   ]
  },
  {
   "cell_type": "code",
   "execution_count": null,
   "metadata": {
    "collapsed": true
   },
   "outputs": [],
   "source": [
    "for i, candidate in enumerate(candidates):\n",
    "    candidates[i] = ' '.join([stemmer.stem(token) for token in nltk.word_tokenize(candidate)])\n",
    "    \n",
    "candidates = list(set(candidates))"
   ]
  },
  {
   "cell_type": "code",
   "execution_count": null,
   "metadata": {
    "collapsed": false
   },
   "outputs": [],
   "source": [
    "stopwords = []\n",
    "with open('/Users/andrewlamb/Google_Drive/Stanford/CS199/RAKE-tutorial/SmartStoplistAdditional.txt') as f:\n",
    "    for line in f:\n",
    "        stopwords.append(line.strip())\n",
    "\n",
    "extractor = TfidfVectorizer(ngram_range=(1,4), vocabulary=candidates, norm=None, smooth_idf=False, stop_words=stopwords)\n",
    "X = extractor.fit_transform(stemmed_combined_documents.values())\n",
    "inverse_voc = {v: k for k, v in extractor.vocabulary_.items()}\n",
    "\n",
    "extracted = {}\n",
    "for doc_idx, name in enumerate(documents.keys()):\n",
    "    extracted[name] = [inverse_voc[idx] for idx in np.argsort(X[doc_idx,:].toarray().flatten())]"
   ]
  },
  {
   "cell_type": "code",
   "execution_count": null,
   "metadata": {
    "collapsed": false
   },
   "outputs": [],
   "source": [
    "matches = OrderedDict()\n",
    "jaccard = OrderedDict()\n",
    "\n",
    "for name, keys in sorted(keywords.items()):\n",
    "    extracted_words = extracted[name][-len(keys):]\n",
    "    matches[name.replace('.keys', '')] = list(set(keys).intersection(extracted_words))\n",
    "    jaccard[name.replace('.keys', '')] = float(len(set(keys).intersection(extracted_words))) / len(set(keys).union(set(extracted_words)))\n",
    "    \n",
    "print('Average jaccard: {}'.format(sum(jaccard.values()) / len(jaccard)))"
   ]
  },
  {
   "cell_type": "code",
   "execution_count": null,
   "metadata": {
    "collapsed": false
   },
   "outputs": [],
   "source": [
    "matches = OrderedDict()\n",
    "jaccard = OrderedDict()\n",
    "\n",
    "for name, keys in sorted(keywords.items()):\n",
    "    extracted_words = extracted[name][-2*len(keys):]\n",
    "    matches[name.replace('.keys', '')] = list(set(keys).intersection(extracted_words))\n",
    "    jaccard[name.replace('.keys', '')] = float(len(set(keys).intersection(extracted_words))) / len(set(keys).union(set(extracted_words)))\n",
    "    \n",
    "print('Average jaccard: {}'.format(sum(jaccard.values()) / len(jaccard)))"
   ]
  },
  {
   "cell_type": "code",
   "execution_count": null,
   "metadata": {
    "collapsed": true
   },
   "outputs": [],
   "source": []
  }
 ],
 "metadata": {
  "kernelspec": {
   "display_name": "Python 2",
   "language": "python",
   "name": "python2"
  },
  "language_info": {
   "codemirror_mode": {
    "name": "ipython",
    "version": 2
   },
   "file_extension": ".py",
   "mimetype": "text/x-python",
   "name": "python",
   "nbconvert_exporter": "python",
   "pygments_lexer": "ipython2",
   "version": "2.7.11"
  }
 },
 "nbformat": 4,
 "nbformat_minor": 0
}
