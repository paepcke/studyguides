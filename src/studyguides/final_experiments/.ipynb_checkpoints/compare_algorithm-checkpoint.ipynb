{
 "cells": [
  {
   "cell_type": "code",
   "execution_count": 1,
   "metadata": {
    "collapsed": true
   },
   "outputs": [],
   "source": [
    "import nltk\n",
    "import os\n",
    "\n",
    "from collections import defaultdict\n",
    "\n",
    "import numpy as np"
   ]
  },
  {
   "cell_type": "code",
   "execution_count": 2,
   "metadata": {
    "collapsed": false
   },
   "outputs": [
    {
     "ename": "IOError",
     "evalue": "[Errno 2] No such file or directory: '../../../data/keywords/rater1.csv'",
     "output_type": "error",
     "traceback": [
      "\u001b[0;31m---------------------------------------------------------------------------\u001b[0m",
      "\u001b[0;31mIOError\u001b[0m                                   Traceback (most recent call last)",
      "\u001b[0;32m<ipython-input-2-569a99479d7e>\u001b[0m in \u001b[0;36m<module>\u001b[0;34m()\u001b[0m\n\u001b[1;32m     11\u001b[0m \u001b[0;32mfor\u001b[0m \u001b[0mname\u001b[0m \u001b[0;32min\u001b[0m \u001b[0;34m[\u001b[0m\u001b[0;34m'rater1.csv'\u001b[0m\u001b[0;34m,\u001b[0m \u001b[0;34m'rater2.csv'\u001b[0m\u001b[0;34m,\u001b[0m \u001b[0;34m'rater3.csv'\u001b[0m\u001b[0;34m]\u001b[0m\u001b[0;34m:\u001b[0m\u001b[0;34m\u001b[0m\u001b[0m\n\u001b[1;32m     12\u001b[0m \u001b[0;31m# for name in os.listdir('../../../data/keywords/'):\u001b[0m\u001b[0;34m\u001b[0m\u001b[0;34m\u001b[0m\u001b[0m\n\u001b[0;32m---> 13\u001b[0;31m     \u001b[0;32mwith\u001b[0m \u001b[0mopen\u001b[0m\u001b[0;34m(\u001b[0m\u001b[0;34m'../../../data/keywords/'\u001b[0m \u001b[0;34m+\u001b[0m \u001b[0mname\u001b[0m\u001b[0;34m)\u001b[0m \u001b[0;32mas\u001b[0m \u001b[0mf\u001b[0m\u001b[0;34m:\u001b[0m\u001b[0;34m\u001b[0m\u001b[0m\n\u001b[0m\u001b[1;32m     14\u001b[0m         \u001b[0mrater\u001b[0m \u001b[0;34m=\u001b[0m \u001b[0;34m{\u001b[0m\u001b[0;34m}\u001b[0m\u001b[0;34m\u001b[0m\u001b[0m\n\u001b[1;32m     15\u001b[0m         \u001b[0;32mfor\u001b[0m \u001b[0mline\u001b[0m \u001b[0;32min\u001b[0m \u001b[0mf\u001b[0m\u001b[0;34m:\u001b[0m\u001b[0;34m\u001b[0m\u001b[0m\n",
      "\u001b[0;31mIOError\u001b[0m: [Errno 2] No such file or directory: '../../../data/keywords/rater1.csv'"
     ]
    }
   ],
   "source": [
    "# Stem all the keywords \n",
    "stemmer = nltk.PorterStemmer()\n",
    "# Collect all n-grams that raters extract.\n",
    "# We count a phrase if it is a 1-gram or it is a n-gram and any rater tagged it\n",
    "ngrams = defaultdict(set)\n",
    "# Each rater is a dict (filename, phrase) => ranking. \n",
    "# Ranking is 0 if it is not in the top-5.\n",
    "raters = []\n",
    "\n",
    "# We might not want to include the rater w/ only the first 6 units.\n",
    "for name in ['rater1.csv', 'rater2.csv', 'rater3.csv']:\n",
    "# for name in os.listdir('../../../data/keywords/'):\n",
    "    with open('/Profiles/andrewl3/Documents/studyguides/src/studyguides/util/' + name) as f:\n",
    "        rater = {}\n",
    "        for line in f:\n",
    "            file, term, _, rank = line.strip().split(',')\n",
    "            rank = int(rank)\n",
    "            tokens = term.lower().split(' ')\n",
    "            stemmed = ' '.join(stemmer.stem(token) for token in tokens)\n",
    "            rater[file, stemmed] = rank\n",
    "            \n",
    "            if len(tokens) > 1:\n",
    "                ngrams[file].add(stemmed)\n",
    "                \n",
    "        raters.append(rater)\n",
    "    \n",
    "\n",
    "# The algorithm's rakings. Dict (filename, phrase) => ranking\n",
    "alg_rankings = {}\n",
    "\n",
    "with open('./tfidf_keys.csv') as f:\n",
    "    for line in f:\n",
    "        doc, term, rank = line.strip().split(',')\n",
    "        rank = int(rank)\n",
    "        tokens = term.lower().split(' ')\n",
    "        stemmed = ' '.join(stemmer.stem(token) for token in tokens)\n",
    "        alg_rankings[doc, stemmed] = rank\n",
    "        \n",
    "        if len(tokens) > 1:\n",
    "            ngrams[file].add(stemmed)\n",
    "\n",
    "# Dict (filename, phrase) => ranking\n",
    "# Ranking is the best ranking any human rater gave.\n",
    "combined_raters = {}\n",
    "# Take the union over all raters' keys.\n",
    "combined_keys = reduce(lambda x, y: x.union(y), [set(rater.keys()) for rater in raters])\n",
    "for key in combined_keys:\n",
    "    for rater in raters:\n",
    "        if key in rater:\n",
    "            \n",
    "            if key not in combined_raters:\n",
    "                combined_raters[key] = rater[key]\n",
    "            else:\n",
    "                combined_raters[key] = min(combined_raters[key], rater[key])\n",
    "\n",
    "all_keys = set()\n",
    "\n",
    "for name in os.listdir('/Users/andrewlamb/Google_Drive/Stanford/CS199/DB_SelfPaced/Flat'):\n",
    "    with open('/Users/andrewlamb/Google_Drive/Stanford/CS199/DB_SelfPaced/Flat/' + name) as f:\n",
    "        # Open up each transcript file and stem it.\n",
    "        lines = []\n",
    "        for line in f:\n",
    "            line = line.strip('.| \\n')\n",
    "\n",
    "            stemmed = ' '.join([stemmer.stem(token) for token in line.split(' ')])\n",
    "            lines.append(stemmed)\n",
    "        document = ' '.join(lines)\n",
    "        document = document.lower()\n",
    "        \n",
    "        # Remove all n-grams from the document and add them as keys.\n",
    "        for ngram in ngrams[name]:\n",
    "            document = document.replace(ngram, '')\n",
    "            all_keys.add((name, ngram))\n",
    "            \n",
    "        # Add all the remaining 1-grams as keys.\n",
    "        for token in document.split(' '):\n",
    "            all_keys.add((name, token))\n",
    "\n",
    "data = []\n",
    "# Data is a list with tuples (rater num, (file, phrase), category)\n",
    "for key in all_keys:\n",
    "    for i, rater in enumerate([combined_raters, alg_rankings]):\n",
    "        if key in rater:\n",
    "            data.append((i, key, 'keyword'))\n",
    "        else:\n",
    "            data.append((i, key, 'not keyword'))\n",
    "            \n",
    "# Filter the dataset to files that all raters have tagged.\n",
    "# In practice at least one rater has tagged every file, so this shouldn't filter\n",
    "# anything.\n",
    "intersection_files = reduce(\n",
    "    lambda x, y: set(x).intersection(y),\n",
    "    [set(zip(*rater.keys())[0]) for rater in [combined_raters, alg_rankings]]\n",
    ")\n",
    "\n",
    "data = [item for item in data if item[1][0] in intersection_files]       "
   ]
  },
  {
   "cell_type": "code",
   "execution_count": null,
   "metadata": {
    "collapsed": false
   },
   "outputs": [],
   "source": [
    "# Print a few random data points to spot check\n",
    "for i in np.random.choice(range(len(data)), size=10, replace=False):\n",
    "    print(data[i])\n",
    "    \n",
    "print('#'*80)\n",
    "\n",
    "# Print a few that are definitely included in the index\n",
    "cat_1 = [item for item in data if item[2] == 'keyword']\n",
    "for i in np.random.choice(range(len(cat_1)), size=10, replace=False):\n",
    "    print(cat_1[i])\n",
    "print('#'*80)\n",
    "    \n",
    "# Print a few in category 2\n",
    "cat_2 = [item for item in data if item[2] == 'not keyword']\n",
    "for i in np.random.choice(range(len(cat_2)), size=10, replace=False):\n",
    "    print(cat_2[i])"
   ]
  },
  {
   "cell_type": "code",
   "execution_count": null,
   "metadata": {
    "collapsed": false
   },
   "outputs": [],
   "source": [
    "t = nltk.AnnotationTask(data=data)\n",
    "t.kappa()"
   ]
  },
  {
   "cell_type": "code",
   "execution_count": null,
   "metadata": {
    "collapsed": true
   },
   "outputs": [],
   "source": []
  }
 ],
 "metadata": {
  "kernelspec": {
   "display_name": "Python 2",
   "language": "python",
   "name": "python2"
  },
  "language_info": {
   "codemirror_mode": {
    "name": "ipython",
    "version": 2
   },
   "file_extension": ".py",
   "mimetype": "text/x-python",
   "name": "python",
   "nbconvert_exporter": "python",
   "pygments_lexer": "ipython2",
   "version": "2.7.11"
  }
 },
 "nbformat": 4,
 "nbformat_minor": 0
}
