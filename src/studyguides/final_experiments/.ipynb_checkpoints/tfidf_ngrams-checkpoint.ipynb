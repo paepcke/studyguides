{
 "cells": [
  {
   "cell_type": "code",
   "execution_count": 1,
   "metadata": {
    "collapsed": true
   },
   "outputs": [],
   "source": [
    "import os\n",
    "import nltk\n",
    "\n",
    "import numpy as np\n",
    "\n",
    "from collections import OrderedDict, defaultdict\n",
    "from sklearn.feature_extraction.text import TfidfVectorizer, CountVectorizer"
   ]
  },
  {
   "cell_type": "code",
   "execution_count": 2,
   "metadata": {
    "collapsed": false
   },
   "outputs": [],
   "source": [
    "documents = OrderedDict()\n",
    "\n",
    "for name in os.listdir('../../../data/Introduction_to_Databases_Captions'):\n",
    "    with open('../../../data/Introduction_to_Databases_Captions/' + name) as f:\n",
    "        lines = []\n",
    "        for line in f:\n",
    "            lines.append(line.strip('| \\n'))\n",
    "        documents[name] = ' '.join(lines)\n",
    "        \n",
    "keywords = defaultdict(set)\n",
    "stemmer = nltk.stem.PorterStemmer()\n",
    "\n",
    "for name in os.listdir('../../../data/keywords/'):\n",
    "    with open('../../../data/keywords/' + name) as f:\n",
    "        for line in f:\n",
    "            lecture_name, key, _, rank = line.strip().split(',')\n",
    "            rank = int(rank)\n",
    "            key = key.replace('-', ' ')\n",
    "            key = ' '.join(stemmer.stem(token) for token in nltk.word_tokenize(key))\n",
    "            key = key.lower()\n",
    "            keywords[lecture_name].add(key)"
   ]
  },
  {
   "cell_type": "code",
   "execution_count": 3,
   "metadata": {
    "collapsed": false
   },
   "outputs": [],
   "source": [
    "stopwords = []\n",
    "with open('../../../data/smart.txt') as f:\n",
    "    for line in f:\n",
    "        line = line.strip()\n",
    "        tokens = nltk.word_tokenize(line)\n",
    "        stopwords.append(' '.join([stemmer.stem(token) for token in tokens]))\n",
    "    \n",
    "stemmed_documents = OrderedDict()\n",
    "\n",
    "for name, document in documents.items():\n",
    "    document = document.replace('-', ' ')\n",
    "    document = ' '.join([stemmer.stem(token) for token in nltk.word_tokenize(document)])\n",
    "    stemmed_documents[name] = document.lower()\n",
    "\n",
    "extractor = TfidfVectorizer(stop_words=stopwords, ngram_range=(1,4))\n",
    "X = extractor.fit_transform(stemmed_documents.values())\n",
    "inverse_voc = {v: k for k, v in extractor.vocabulary_.items()}\n",
    "\n",
    "extracted = OrderedDict()\n",
    "for doc_idx, name in enumerate(stemmed_documents.keys()):\n",
    "    extracted[name] = [inverse_voc[idx] for idx in np.argsort(X[doc_idx,:].toarray().flatten())]"
   ]
  },
  {
   "cell_type": "code",
   "execution_count": 4,
   "metadata": {
    "collapsed": false
   },
   "outputs": [
    {
     "name": "stdout",
     "output_type": "stream",
     "text": [
      "Average jaccard: 0.116370291814\n"
     ]
    }
   ],
   "source": [
    "matches = OrderedDict()\n",
    "jaccard = OrderedDict()\n",
    "\n",
    "for name, keys in sorted(keywords.items()):\n",
    "    extracted_words = extracted[name][-len(keys):]\n",
    "    matches[name.replace('.keys', '')] = list(set(keys).intersection(extracted_words))\n",
    "    jaccard[name.replace('.keys', '')] = float(len(set(keys).intersection(extracted_words))) / len(set(keys).union(set(extracted_words)))\n",
    "    \n",
    "print('Average jaccard: {}'.format(sum(jaccard.values()) / len(jaccard)))"
   ]
  },
  {
   "cell_type": "code",
   "execution_count": 5,
   "metadata": {
    "collapsed": false
   },
   "outputs": [
    {
     "name": "stdout",
     "output_type": "stream",
     "text": [
      "Average jaccard: 0.105646126594\n"
     ]
    }
   ],
   "source": [
    "matches = OrderedDict()\n",
    "jaccard = OrderedDict()\n",
    "\n",
    "for name, keys in sorted(keywords.items()):\n",
    "    extracted_words = extracted[name][-2*len(keys):]\n",
    "    matches[name.replace('.keys', '')] = list(set(keys).intersection(extracted_words))\n",
    "    jaccard[name.replace('.keys', '')] = float(len(set(keys).intersection(extracted_words))) / len(set(keys).union(set(extracted_words)))\n",
    "    \n",
    "print('Average jaccard: {}'.format(sum(jaccard.values()) / len(jaccard)))"
   ]
  },
  {
   "cell_type": "code",
   "execution_count": 6,
   "metadata": {
    "collapsed": false
   },
   "outputs": [],
   "source": [
    "with open('tfidf_keys.csv', 'w') as f:\n",
    "    for document, keys in sorted(extracted.items()):\n",
    "        keys = list(reversed(keys))\n",
    "        for i, key in enumerate(keys[:10]):\n",
    "            if i < 5:\n",
    "                f.write('{},{},{}\\n'.format(document, key, i + 1))\n",
    "            else:\n",
    "                f.write('{},{},{}\\n'.format(document, key, 0))"
   ]
  },
  {
   "cell_type": "code",
   "execution_count": null,
   "metadata": {
    "collapsed": true
   },
   "outputs": [],
   "source": []
  }
 ],
 "metadata": {
  "kernelspec": {
   "display_name": "Python 2",
   "language": "python",
   "name": "python2"
  },
  "language_info": {
   "codemirror_mode": {
    "name": "ipython",
    "version": 2
   },
   "file_extension": ".py",
   "mimetype": "text/x-python",
   "name": "python",
   "nbconvert_exporter": "python",
   "pygments_lexer": "ipython2",
   "version": "2.7.11"
  }
 },
 "nbformat": 4,
 "nbformat_minor": 0
}
