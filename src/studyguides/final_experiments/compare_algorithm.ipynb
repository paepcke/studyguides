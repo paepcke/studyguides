{
 "cells": [
  {
   "cell_type": "code",
   "execution_count": 2,
   "metadata": {
    "collapsed": true
   },
   "outputs": [],
   "source": [
    "import nltk\n",
    "import os\n",
    "\n",
    "from collections import defaultdict\n",
    "\n",
    "import numpy as np"
   ]
  },
  {
   "cell_type": "code",
   "execution_count": 18,
   "metadata": {
    "collapsed": false
   },
   "outputs": [],
   "source": [
    "# Stem all the keywords \n",
    "stemmer = nltk.PorterStemmer()\n",
    "# Collect all n-grams that raters extract.\n",
    "# We count a phrase if it is a 1-gram or it is a n-gram and any rater tagged it\n",
    "ngrams = defaultdict(set)\n",
    "# Each rater is a dict (filename, phrase) => ranking. \n",
    "# Ranking is 0 if it is not in the top-5.\n",
    "raters = []\n",
    "\n",
    "# We might not want to include the rater w/ only the first 6 units.\n",
    "for name in ['rater1.csv', 'rater2.csv', 'rater3.csv']:\n",
    "# for name in os.listdir('../../../data/keywords/'):\n",
    "    with open('../../../data/keywords/' + name) as f:\n",
    "        rater = {}\n",
    "        for line in f:\n",
    "            file, term, _, rank = line.strip().split(',')\n",
    "            rank = int(rank)\n",
    "            tokens = term.lower().split(' ')\n",
    "            stemmed = ' '.join(stemmer.stem(token) for token in tokens)\n",
    "            rater[file, stemmed] = rank\n",
    "            \n",
    "            if len(tokens) > 1:\n",
    "                ngrams[file].add(stemmed)\n",
    "                \n",
    "        raters.append(rater)\n",
    "    \n",
    "\n",
    "# The algorithm's rakings. Dict (filename, phrase) => ranking\n",
    "alg_rankings = {}\n",
    "\n",
    "with open('./tfidf_keys.csv') as f:\n",
    "    for line in f:\n",
    "        doc, term, rank = line.strip().split(',')\n",
    "        rank = int(rank)\n",
    "        tokens = term.lower().split(' ')\n",
    "        stemmed = ' '.join(stemmer.stem(token) for token in tokens)\n",
    "        alg_rankings[doc, stemmed] = rank\n",
    "        \n",
    "        if len(tokens) > 1:\n",
    "            ngrams[file].add(stemmed)\n",
    "\n",
    "# Dict (filename, phrase) => ranking\n",
    "# Ranking is the best ranking any human rater gave.\n",
    "combined_raters = {}\n",
    "# Take the union over all raters' keys.\n",
    "combined_keys = reduce(lambda x, y: x.union(y), [set(rater.keys()) for rater in raters])\n",
    "for key in combined_keys:\n",
    "    for rater in raters:\n",
    "        if key in rater:\n",
    "            \n",
    "            if key not in combined_raters:\n",
    "                combined_raters[key] = rater[key]\n",
    "            else:\n",
    "                combined_raters[key] = min(combined_raters[key], rater[key])\n",
    "\n",
    "all_keys = set()\n",
    "\n",
    "for name in os.listdir('/Users/andrewlamb/Google_Drive/Stanford/CS199/DB_SelfPaced/Flat'):\n",
    "    with open('/Users/andrewlamb/Google_Drive/Stanford/CS199/DB_SelfPaced/Flat/' + name) as f:\n",
    "        # Open up each transcript file and stem it.\n",
    "        lines = []\n",
    "        for line in f:\n",
    "            line = line.strip('.| \\n')\n",
    "\n",
    "            stemmed = ' '.join([stemmer.stem(token) for token in line.split(' ')])\n",
    "            lines.append(stemmed)\n",
    "        document = ' '.join(lines)\n",
    "        document = document.lower()\n",
    "        \n",
    "        # Remove all n-grams from the document and add them as keys.\n",
    "        for ngram in ngrams[name]:\n",
    "            document = document.replace(ngram, '')\n",
    "            all_keys.add((name, ngram))\n",
    "            \n",
    "        # Add all the remaining 1-grams as keys.\n",
    "        for token in document.split(' '):\n",
    "            all_keys.add((name, token))\n",
    "\n",
    "data = []\n",
    "# Data is a list with tuples (rater num, (file, phrase), category)\n",
    "for key in all_keys:\n",
    "    for i, rater in enumerate([combined_raters, alg_rankings]):\n",
    "        if key in rater:\n",
    "            data.append((i, key, 'keyword'))\n",
    "        else:\n",
    "            data.append((i, key, 'not keyword'))\n",
    "            \n",
    "# Filter the dataset to files that all raters have tagged.\n",
    "# In practice at least one rater has tagged every file, so this shouldn't filter\n",
    "# anything.\n",
    "intersection_files = reduce(\n",
    "    lambda x, y: set(x).intersection(y),\n",
    "    [set(zip(*rater.keys())[0]) for rater in [combined_raters, alg_rankings]]\n",
    ")\n",
    "\n",
    "data = [item for item in data if item[1][0] in intersection_files]       "
   ]
  },
  {
   "cell_type": "code",
   "execution_count": 19,
   "metadata": {
    "collapsed": false
   },
   "outputs": [
    {
     "name": "stdout",
     "output_type": "stream",
     "text": [
      "(0, ('06_03_Table_Variables_and_Set_Operators.txt', u'set oper'), 'keyword')\n",
      "(1, ('09_02_UML_to_Relations_Part_2.txt', u'two'), 'not keyword')\n",
      "(0, ('12_04_Triggers_Introduction.txt', u'through'), 'not keyword')\n",
      "(1, ('05_02_Set_Operators_Renaming_Notation_Part_1.txt', u'about'), 'not keyword')\n",
      "(1, ('13_01_Defining_and_Using_Views.txt', u'granular'), 'not keyword')\n",
      "(1, ('13_01_Defining_and_Using_Views.txt', u'major,'), 'not keyword')\n",
      "(1, ('03_01_Well_Formed_XML_Part_2.txt', u'within'), 'not keyword')\n",
      "(0, ('07_03_Boyce_Codd_Normal_Form_Part_3.txt', u'seem'), 'not keyword')\n",
      "(1, ('07_02_Functional_Dependencies_Part_2.txt', u'each'), 'not keyword')\n",
      "(0, ('17_01_NoSQLMotivation.txt', u'basi'), 'not keyword')\n",
      "################################################################################\n",
      "(0, ('03_02_XML_Schema.txt', u'type valu'), 'keyword')\n",
      "(0, ('06_04_Subqueries_in_WHERE_Clause.txt', u'select from where express'), 'keyword')\n",
      "(0, ('12_05_Triggers_Demo_Part_1.txt', u'nest trigger invoc'), 'keyword')\n",
      "(0, ('04_01_Introduction_to_JSON_Data_Part_2.txt', u'data interchang'), 'keyword')\n",
      "(1, ('16_01_Introduction_to_OLAP_Part_1.txt', u'olap'), 'keyword')\n",
      "(0, ('07_02_Functional_Dependencies_Part_4.txt', u'test'), 'keyword')\n",
      "(0, ('04_01_Introduction_to_JSON_Data_Part_2.txt', u'xpath'), 'keyword')\n",
      "(0, ('12_02_Constraints_of_Several_Types_Part_1.txt', u'null valu'), 'keyword')\n",
      "(0, ('07_05_Shortcomings_of_BCNF_and_4NF.txt', u'left hand side'), 'keyword')\n",
      "(0, ('13_01_Defining_and_Using_Views.txt', u'defin and use view'), 'keyword')\n",
      "################################################################################\n",
      "(0, ('08_01_XPath_Introduction.txt', u'finally,'), 'not keyword')\n",
      "(0, ('09_02_UML_to_Relations_Part_2.txt', u'actual'), 'not keyword')\n",
      "(1, ('06_02_Basic_SELECT_Statement.txt', u'than'), 'not keyword')\n",
      "(0, ('07_03_Boyce_Codd_Normal_Form_Part_1.txt', u'side?\"'), 'not keyword')\n",
      "(1, ('12_05_Triggers_Demo_Part_1.txt', u'end'), 'not keyword')\n",
      "(0, ('14_01_Authorization_Part_2.txt', u\"let'\"), 'not keyword')\n",
      "(0, ('04_01_Introduction_to_JSON_Data_Part_1.txt', u'possibl'), 'not keyword')\n",
      "(0, ('05_01_Select_Project_Join_Part_2.txt', u'nice'), 'not keyword')\n",
      "(0, ('16_02_OLAP_Demo.txt', u'want'), 'not keyword')\n",
      "(0, ('13_03_View_Modifications_Using_Triggers.txt', u'databas'), 'not keyword')\n"
     ]
    }
   ],
   "source": [
    "# Print a few random data points to spot check\n",
    "for i in np.random.choice(range(len(data)), size=10, replace=False):\n",
    "    print(data[i])\n",
    "    \n",
    "print('#'*80)\n",
    "\n",
    "# Print a few that are definitely included in the index\n",
    "cat_1 = [item for item in data if item[2] == 'keyword']\n",
    "for i in np.random.choice(range(len(cat_1)), size=10, replace=False):\n",
    "    print(cat_1[i])\n",
    "print('#'*80)\n",
    "    \n",
    "# Print a few in category 2\n",
    "cat_2 = [item for item in data if item[2] == 'not keyword']\n",
    "for i in np.random.choice(range(len(cat_2)), size=10, replace=False):\n",
    "    print(cat_2[i])"
   ]
  },
  {
   "cell_type": "code",
   "execution_count": 20,
   "metadata": {
    "collapsed": false
   },
   "outputs": [
    {
     "data": {
      "text/plain": [
       "0.16429291536503848"
      ]
     },
     "execution_count": 20,
     "metadata": {},
     "output_type": "execute_result"
    }
   ],
   "source": [
    "t = nltk.AnnotationTask(data=data)\n",
    "t.kappa()"
   ]
  },
  {
   "cell_type": "code",
   "execution_count": null,
   "metadata": {
    "collapsed": true
   },
   "outputs": [],
   "source": []
  }
 ],
 "metadata": {
  "kernelspec": {
   "display_name": "Python 2",
   "language": "python",
   "name": "python2"
  },
  "language_info": {
   "codemirror_mode": {
    "name": "ipython",
    "version": 2
   },
   "file_extension": ".py",
   "mimetype": "text/x-python",
   "name": "python",
   "nbconvert_exporter": "python",
   "pygments_lexer": "ipython2",
   "version": "2.7.10"
  }
 },
 "nbformat": 4,
 "nbformat_minor": 0
}
