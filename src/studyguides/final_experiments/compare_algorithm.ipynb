{
 "cells": [
  {
   "cell_type": "code",
   "execution_count": 1,
   "metadata": {
    "collapsed": true,
    "scrolled": true
   },
   "outputs": [],
   "source": [
    "import nltk\n",
    "import os\n",
    "\n",
    "from collections import defaultdict\n",
    "\n",
    "import numpy as np"
   ]
  },
  {
   "cell_type": "code",
   "execution_count": 11,
   "metadata": {
    "collapsed": false,
    "scrolled": true
   },
   "outputs": [],
   "source": [
    "# Stem all the keywords \n",
    "stemmer = nltk.PorterStemmer()\n",
    "# Collect all n-grams that raters extract.\n",
    "# We count a phrase if it is a 1-gram or it is a n-gram and any rater tagged it\n",
    "ngrams = defaultdict(set)\n",
    "# Each rater is a dict (filename, phrase) => ranking. \n",
    "# Ranking is 0 if it is not in the top-5.\n",
    "raters = []\n",
    "\n",
    "for name in os.listdir('../../../data/keywords/'):\n",
    "    with open('../../../data/keywords/' + name) as f:\n",
    "        rater = {}\n",
    "        for line in f:\n",
    "            file, term, _, rank = line.strip().split(',')\n",
    "            rank = int(rank)\n",
    "            tokens = term.lower().split(' ')\n",
    "            stemmed = ' '.join(stemmer.stem(token) for token in tokens)\n",
    "            rater[file, stemmed] = rank\n",
    "            \n",
    "            if len(tokens) > 1:\n",
    "                ngrams[file].add(stemmed)\n",
    "                \n",
    "        raters.append(rater)\n",
    "    \n",
    "\n",
    "# The algorithm's rakings. Dict (filename, phrase) => ranking\n",
    "alg_rankings = {}\n",
    "\n",
    "with open('./tfidf_combined_2grams_keys.csv') as f:\n",
    "    for line in f:\n",
    "        doc, term, rank = line.strip().split(',')\n",
    "        rank = int(rank)\n",
    "        tokens = term.lower().split(' ')\n",
    "        stemmed = ' '.join(stemmer.stem(token) for token in tokens)\n",
    "        alg_rankings[doc, stemmed] = rank\n",
    "        \n",
    "        if len(tokens) > 1:\n",
    "            ngrams[file].add(stemmed)\n",
    "\n",
    "# Dict (filename, phrase) => ranking\n",
    "# Ranking is the best ranking any human rater gave.\n",
    "combined_raters = {}\n",
    "# Take the union over all raters' keys.\n",
    "combined_keys = reduce(lambda x, y: x.union(y), [set(rater.keys()) for rater in raters])\n",
    "for key in combined_keys:\n",
    "    for rater in raters:\n",
    "        if key in rater:\n",
    "            \n",
    "            if key not in combined_raters:\n",
    "                combined_raters[key] = rater[key]\n",
    "            else:\n",
    "                combined_raters[key] = min(combined_raters[key], rater[key])\n",
    "\n",
    "all_keys = set()\n",
    "\n",
    "for name in os.listdir('../../../data/Introduction_to_Databases_Captions'):\n",
    "    with open('../../../data/Introduction_to_Databases_Captions/' + name) as f:\n",
    "        # Open up each transcript file and stem it.\n",
    "        lines = []\n",
    "        for line in f:\n",
    "            line = line.strip('.| \\n')\n",
    "\n",
    "            stemmed = ' '.join([stemmer.stem(token) for token in line.split(' ')])\n",
    "            lines.append(stemmed)\n",
    "        document = ' '.join(lines)\n",
    "        document = document.lower()\n",
    "        \n",
    "        # Remove all n-grams from the document and add them as keys.\n",
    "        for ngram in ngrams[name]:\n",
    "            document = document.replace(ngram, '')\n",
    "            all_keys.add((name, ngram))\n",
    "            \n",
    "        # Add all the remaining 1-grams as keys.\n",
    "        for token in document.split(' '):\n",
    "            all_keys.add((name, token))\n",
    "\n",
    "data = []\n",
    "# Data is a list with tuples (rater num, (file, phrase), category)\n",
    "for key in all_keys:\n",
    "    for i, rater in enumerate([combined_raters, alg_rankings]):\n",
    "        if key in rater:\n",
    "            data.append((i, key, 'keyword'))\n",
    "        else:\n",
    "            data.append((i, key, 'not keyword'))\n",
    "            \n",
    "# Filter the dataset to files that all raters have tagged.\n",
    "# In practice at least one rater has tagged every file, so this shouldn't filter\n",
    "# anything.\n",
    "intersection_files = reduce(\n",
    "    lambda x, y: set(x).intersection(y),\n",
    "    [set(zip(*rater.keys())[0]) for rater in [combined_raters, alg_rankings]]\n",
    ")\n",
    "\n",
    "data = [item for item in data if item[1][0] in intersection_files]       "
   ]
  },
  {
   "cell_type": "code",
   "execution_count": 3,
   "metadata": {
    "collapsed": false,
    "scrolled": true
   },
   "outputs": [
    {
     "name": "stdout",
     "output_type": "stream",
     "text": [
      "(1, ('07_03_Boyce_Codd_Normal_Form_Part_1.txt', u'figur'), 'not keyword')\n",
      "(0, ('12_03_Referential_Integrity_Part_3.txt', u'1,'), 'not keyword')\n",
      "(0, ('07_03_Boyce_Codd_Normal_Form_Part_2.txt', u'then,in'), 'not keyword')\n",
      "(0, ('17_01_NoSQLMotivation.txt', u'basi'), 'not keyword')\n",
      "(1, ('03_01_Well_Formed_XML_Part_1.txt', u\"what'\"), 'not keyword')\n",
      "(1, ('07_04_Multivalued_Dependencies_and_4th_Normal_Form_Part_4.txt', u'fourth normal form'), 'not keyword')\n",
      "(0, ('02_02_Querying_Relational_Databases.txt', u'system'), 'not keyword')\n",
      "(0, ('06_04_Subqueries_in_FROM_and_SELECT.txt', u'join'), 'not keyword')\n",
      "(1, ('17_01_NoSQLOverview.txt', u'place'), 'not keyword')\n",
      "(1, ('03_02_XML_Schema.txt', u'between'), 'not keyword')\n",
      "################################################################################\n",
      "(0, ('13_05_Materialized_Views_Part_1.txt', u'modif'), 'keyword')\n",
      "(1, ('06_05_Aggregation.txt', u'colleg'), 'keyword')\n",
      "(1, ('03_02_XML_Schema.txt', u'element'), 'keyword')\n",
      "(0, ('17_01_NoSQLOverview.txt', u'mass produc architectur'), 'keyword')\n",
      "(0, ('03_02_DTDs_IDs_and_IDREFs.txt', u'specifi'), 'keyword')\n",
      "(0, ('15_02_Basic_Recursive_WITH_Statement_Demo.txt', u'loop'), 'keyword')\n",
      "(0, ('11_02_Transactions_Properties_Part_3.txt', u'serial'), 'keyword')\n",
      "(0, ('04_01_Introduction_to_JSON_Data_Part_2.txt', u'json schema'), 'keyword')\n",
      "(0, ('04_01_Introduction_to_JSON_Data_Part_1.txt', u'json object'), 'keyword')\n",
      "(0, ('08_03_XQuery_Introduction.txt', u'order by'), 'keyword')\n",
      "################################################################################\n",
      "(1, ('01_01_Introduction.txt', u'stored,'), 'not keyword')\n",
      "(0, ('06_07_Data_Modification_Statements.txt', u'explor'), 'not keyword')\n",
      "(0, ('08_01_XPath_Introduction.txt', u'gonna'), 'not keyword')\n",
      "(0, ('06_07_Data_Modification_Statements.txt', u'shortli'), 'not keyword')\n",
      "(0, ('05_01_Select_Project_Join_Part_1.txt', u'two'), 'not keyword')\n",
      "(0, ('03_02_XML_Schema.txt', u'long'), 'not keyword')\n",
      "(0, ('13_03_View_Modifications_Using_Triggers.txt', u'complex'), 'not keyword')\n",
      "(1, ('04_01_Introduction_to_JSON_Data_Part_1.txt', u'write'), 'not keyword')\n",
      "(1, ('13_03_View_Modifications_Using_Triggers.txt', u'high'), 'not keyword')\n",
      "(1, ('01_01_Introduction.txt', u'outag'), 'not keyword')\n"
     ]
    }
   ],
   "source": [
    "# Print a few random data points to spot check\n",
    "for i in np.random.choice(range(len(data)), size=10, replace=False):\n",
    "    print(data[i])\n",
    "    \n",
    "print('#'*80)\n",
    "\n",
    "# Print a few that are definitely included in the index\n",
    "cat_1 = [item for item in data if item[2] == 'keyword']\n",
    "for i in np.random.choice(range(len(cat_1)), size=10, replace=False):\n",
    "    print(cat_1[i])\n",
    "print('#'*80)\n",
    "    \n",
    "# Print a few in category 2\n",
    "cat_2 = [item for item in data if item[2] == 'not keyword']\n",
    "for i in np.random.choice(range(len(cat_2)), size=10, replace=False):\n",
    "    print(cat_2[i])"
   ]
  },
  {
   "cell_type": "code",
   "execution_count": 12,
   "metadata": {
    "collapsed": false,
    "scrolled": true
   },
   "outputs": [
    {
     "data": {
      "text/plain": [
       "0.17673157389130523"
      ]
     },
     "execution_count": 12,
     "metadata": {},
     "output_type": "execute_result"
    }
   ],
   "source": [
    "t = nltk.AnnotationTask(data=data)\n",
    "t.kappa()"
   ]
  },
  {
   "cell_type": "code",
   "execution_count": 13,
   "metadata": {
    "collapsed": false,
    "scrolled": true
   },
   "outputs": [
    {
     "data": {
      "text/plain": [
       "0.9024518082814046"
      ]
     },
     "execution_count": 13,
     "metadata": {},
     "output_type": "execute_result"
    }
   ],
   "source": [
    "t.S()"
   ]
  },
  {
   "cell_type": "code",
   "execution_count": null,
   "metadata": {
    "collapsed": true
   },
   "outputs": [],
   "source": []
  }
 ],
 "metadata": {
  "kernelspec": {
   "display_name": "Python 2",
   "language": "python",
   "name": "python2"
  },
  "language_info": {
   "codemirror_mode": {
    "name": "ipython",
    "version": 2
   },
   "file_extension": ".py",
   "mimetype": "text/x-python",
   "name": "python",
   "nbconvert_exporter": "python",
   "pygments_lexer": "ipython2",
   "version": "2.7.11"
  }
 },
 "nbformat": 4,
 "nbformat_minor": 0
}
