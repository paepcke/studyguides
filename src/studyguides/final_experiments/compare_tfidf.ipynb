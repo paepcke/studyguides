{
 "cells": [
  {
   "cell_type": "code",
   "execution_count": 4,
   "metadata": {
    "collapsed": true
   },
   "outputs": [],
   "source": [
    "import nltk\n",
    "import os\n",
    "import functools\n",
    "\n",
    "from collections import defaultdict\n",
    "\n",
    "import numpy as np"
   ]
  },
  {
   "cell_type": "code",
   "execution_count": 18,
   "metadata": {
    "collapsed": false
   },
   "outputs": [],
   "source": [
    "stemmer = nltk.PorterStemmer()\n",
    "ngrams = defaultdict(set)\n",
    "raters = []\n",
    "\n",
    "for name in os.listdir('../../../data/keywords/'):\n",
    "    with open('../../../data/keywords/' + name) as f:\n",
    "        rater = {}\n",
    "        for line in f:\n",
    "            file, term, _, rank = line.strip().split(',')\n",
    "            rank = int(rank)\n",
    "            if rank == 0:\n",
    "                rank = 6\n",
    "            tokens = term.lower().split(' ')\n",
    "            stemmed = ' '.join(stemmer.stem(token) for token in tokens)\n",
    "            rater[file, stemmed] = rank\n",
    "            \n",
    "            if len(tokens) > 1:\n",
    "                ngrams[file].add(stemmed)\n",
    "                \n",
    "        raters.append(rater)\n",
    "        \n",
    "            \n",
    "tfidf_rankings = {}\n",
    "\n",
    "with open('./tfidf_keys.csv') as f:\n",
    "    for line in f:\n",
    "        doc, term, rank = line.strip().split(',')\n",
    "        rank = int(rank)\n",
    "        tokens = term.lower().split(' ')\n",
    "        stemmed = ' '.join(stemmer.stem(token) for token in tokens)\n",
    "        tfidf_rankings[doc, stemmed] = rank\n",
    "        \n",
    "        if len(tokens) > 1:\n",
    "            ngrams[file].add(stemmed)\n",
    "        \n",
    "combined_raters = {}\n",
    "combined_keys = functools.reduce(lambda x, y: x.intersection(y), [set(rater.keys()) for rater in raters])\n",
    "for key in combined_keys:\n",
    "    for rater in raters:\n",
    "        if key in rater:\n",
    "            if key not in combined_raters:\n",
    "                combined_raters[key] = rater[key]\n",
    "            else:\n",
    "                combined_raters[key] = min(combined_raters[key], rater[key])\n",
    "\n",
    "for key, val in combined_raters.items():\n",
    "    if val == 6:\n",
    "        combined_raters[key] = 0\n",
    "\n",
    "all_keys = set()\n",
    "\n",
    "for name in os.listdir('/Users/andrewlamb/Google_Drive/Stanford/CS199/DB_SelfPaced/Flat'):\n",
    "    with open('/Users/andrewlamb/Google_Drive/Stanford/CS199/DB_SelfPaced/Flat/' + name) as f:\n",
    "        lines = []\n",
    "        for line in f:\n",
    "            line = line.strip('.| \\n')\n",
    "\n",
    "            stemmed = ' '.join([stemmer.stem(token) for token in line.split(' ')])\n",
    "            lines.append(stemmed)\n",
    "        document = ' '.join(lines)\n",
    "        document = document.lower()\n",
    "\n",
    "        \n",
    "        for ngram in ngrams[name]:\n",
    "            document = document.replace(ngram, '')\n",
    "            all_keys.add((name, ngram))\n",
    "            \n",
    "        for token in document.split(' '):\n",
    "            all_keys.add((name, token))\n",
    "\n",
    "\n",
    "data = []\n",
    "for key in all_keys:\n",
    "    if key in combined_raters:\n",
    "        rank = combined_raters[key]\n",
    "        if rank > 0:\n",
    "            data.append((1, key, 1))\n",
    "        else:\n",
    "            data.append((1, key, 2))\n",
    "    else:\n",
    "        data.append((1, key, 3))\n",
    "        \n",
    "    if key in tfidf_rankings:\n",
    "        rank = tfidf_rankings[key]\n",
    "        if rank > 0:\n",
    "            data.append((2, key, 1))\n",
    "        else:\n",
    "            data.append((2, key, 2))\n",
    "    else:\n",
    "        data.append((2, key, 3))"
   ]
  },
  {
   "cell_type": "code",
   "execution_count": 19,
   "metadata": {
    "collapsed": false
   },
   "outputs": [
    {
     "name": "stdout",
     "output_type": "stream",
     "text": [
      "(1, ('13_05_Materialized_Views_Part_2.txt', 'layer'), 3)\n",
      "(1, ('08_02_XPath_Demo.txt', 'less'), 3)\n",
      "(1, ('17_01_NoSQLOverview.txt', 'left hand'), 3)\n",
      "(1, ('04_02_JSON_Demo.txt', 'flag'), 3)\n",
      "(2, ('13_05_Materialized_Views_Part_2.txt', 'can'), 3)\n",
      "(1, ('05_01_Select_Project_Join_Part_4.txt', 'notat'), 3)\n",
      "(2, ('13_05_Materialized_Views_Part_2.txt', 'will'), 3)\n",
      "(2, ('14_01_Authorization_Part_3.txt', 'graph'), 3)\n",
      "(1, ('07_02_Functional_Dependencies_Part_2.txt', 'there'), 3)\n",
      "(1, ('08_04_XQuery_Demo.txt', 'hundr'), 3)\n",
      "################################################################################\n",
      "(1, ('11_03_Isolation_Levels_Part_1.txt', 'dirti read'), 1)\n",
      "(1, ('12_04_Triggers_Introduction.txt', 'referenc variabl'), 1)\n",
      "(1, ('12_03_Referential_Integrity_Part_3.txt', 'set null'), 1)\n",
      "(2, ('05_01_Select_Project_Join_Part_3.txt', 'high'), 1)\n",
      "(1, ('03_01_Well_Formed_XML_Part_1.txt', 'nest develop'), 1)\n",
      "(2, ('07_02_Functional_Dependencies_Part_2.txt', 'data'), 1)\n",
      "(2, ('11_03_Isolation_Levels_Part_2.txt', 'transact'), 1)\n",
      "(1, ('04_01_Introduction_to_JSON_Data_Part_2.txt', 'json queri'), 1)\n",
      "(1, ('05_01_Select_Project_Join_Part_1.txt', 'select oper'), 1)\n",
      "(2, ('11_03_Isolation_Levels_Part_4.txt', 'oper'), 1)\n",
      "################################################################################\n",
      "(1, ('01_01_Introduction.txt', 'data definit languag'), 2)\n",
      "(2, ('02_02_Querying_Relational_Databases.txt', 'relat'), 2)\n",
      "(2, ('12_01_Motivation_and_Overview.txt', 'oper'), 2)\n",
      "(1, ('07_01_Relational_Design_Overview_Part_2.txt', 'first normal form'), 2)\n",
      "(2, ('06_07_Data_Modification_Statements.txt', 'attribut'), 2)\n",
      "(2, ('07_01_Relational_Design_Overview_Part_1.txt', 'colleg'), 2)\n",
      "(2, ('06_07_Data_Modification_Statements.txt', 'select'), 2)\n",
      "(2, ('06_03_Table_Variables_and_Set_Operators.txt', 'student'), 2)\n",
      "(1, ('17_01_NoSQLOverview.txt', 'driad'), 2)\n",
      "(2, ('07_04_Multivalued_Dependencies_and_4th_Normal_Form_Part_1.txt', 'codd'), 2)\n"
     ]
    }
   ],
   "source": [
    "# Print a few random data points to spot check\n",
    "for i in np.random.choice(range(len(data)), size=10, replace=False):\n",
    "    print(data[i])\n",
    "    \n",
    "print('#'*80)\n",
    "\n",
    "# Print a few that are definitely included in the index\n",
    "cat_1 = [item for item in data if item[2] == 1]\n",
    "for i in np.random.choice(range(len(cat_1)), size=10, replace=False):\n",
    "    print(cat_1[i])\n",
    "print('#'*80)\n",
    "    \n",
    "# Print a few in category 2\n",
    "cat_2 = [item for item in data if item[2] == 2]\n",
    "for i in np.random.choice(range(len(cat_2)), size=10, replace=False):\n",
    "    print(cat_2[i])"
   ]
  },
  {
   "cell_type": "code",
   "execution_count": 20,
   "metadata": {
    "collapsed": false
   },
   "outputs": [
    {
     "data": {
      "text/plain": [
       "0.00611010815591021"
      ]
     },
     "execution_count": 20,
     "metadata": {},
     "output_type": "execute_result"
    }
   ],
   "source": [
    "t = nltk.AnnotationTask(data=data)\n",
    "t.kappa()"
   ]
  },
  {
   "cell_type": "code",
   "execution_count": null,
   "metadata": {
    "collapsed": true
   },
   "outputs": [],
   "source": []
  }
 ],
 "metadata": {
  "kernelspec": {
   "display_name": "Python 3",
   "language": "python",
   "name": "python3"
  },
  "language_info": {
   "codemirror_mode": {
    "name": "ipython",
    "version": 3
   },
   "file_extension": ".py",
   "mimetype": "text/x-python",
   "name": "python",
   "nbconvert_exporter": "python",
   "pygments_lexer": "ipython3",
   "version": "3.3.5"
  }
 },
 "nbformat": 4,
 "nbformat_minor": 0
}
