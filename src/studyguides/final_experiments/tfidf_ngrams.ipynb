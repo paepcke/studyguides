{
 "cells": [
  {
   "cell_type": "code",
   "execution_count": 1,
   "metadata": {
    "collapsed": true
   },
   "outputs": [],
   "source": [
    "import os\n",
    "import nltk\n",
    "\n",
    "import numpy as np\n",
    "\n",
    "from collections import OrderedDict\n",
    "from sklearn.feature_extraction.text import TfidfVectorizer"
   ]
  },
  {
   "cell_type": "code",
   "execution_count": 2,
   "metadata": {
    "collapsed": false
   },
   "outputs": [],
   "source": [
    "documents = OrderedDict()\n",
    "\n",
    "for name in os.listdir('/Users/andrewlamb/Google_Drive/Stanford/CS199/DB_SelfPaced/Flat'):\n",
    "    with open('/Users/andrewlamb/Google_Drive/Stanford/CS199/DB_SelfPaced/Flat/' + name) as f:\n",
    "        lines = []\n",
    "        for line in f:\n",
    "            lines.append(line.strip('| \\n'))\n",
    "        documents[name] = (' '.join(lines))\n",
    "        \n",
    "keywords = {}\n",
    "stemmer = nltk.stem.PorterStemmer()\n",
    "\n",
    "for name in os.listdir('/Users/andrewlamb/Google_Drive/Stanford/CS199/DB_SelfPaced/Keys'):\n",
    "    with open('/Users/andrewlamb/Google_Drive/Stanford/CS199/DB_SelfPaced/Keys/' + name) as f:\n",
    "        keys = []\n",
    "        for line in f:\n",
    "            key = line.strip()\n",
    "            key = key.replace('-', ' ')\n",
    "            key = ' '.join(stemmer.stem(token) for token in nltk.word_tokenize(key))\n",
    "            key = key.lower()\n",
    "\n",
    "            keys.append(key)\n",
    "            \n",
    "        keywords[name] = keys"
   ]
  },
  {
   "cell_type": "code",
   "execution_count": 5,
   "metadata": {
    "collapsed": false
   },
   "outputs": [],
   "source": [
    "stopwords = []\n",
    "with open('/Users/andrewlamb/Google_Drive/Stanford/CS199/RAKE-tutorial/SmartStoplistAdditional.txt') as f:\n",
    "    for line in f:\n",
    "        stopwords.append(line.strip())\n",
    "    \n",
    "stemmed_documents = OrderedDict()\n",
    "\n",
    "for name, document in documents.items():\n",
    "    stemmed_document = document.replace('-', ' ')\n",
    "    stemmed_document = ' '.join([stemmer.stem(token) for token in nltk.word_tokenize(document)])\n",
    "    stemmed_documents[name] = stemmed_document.lower()\n",
    "\n",
    "extractor = TfidfVectorizer(stop_words=stopwords, ngram_range=(1,4))\n",
    "X = extractor.fit_transform(stemmed_documents.values())\n",
    "inverse_voc = {v: k for k, v in extractor.vocabulary_.items()}\n",
    "\n",
    "extracted = {}\n",
    "for doc_idx, (name, keys) in enumerate(keywords.items()):\n",
    "    extracted[name] = [inverse_voc[idx] for idx in np.argsort(X[doc_idx,:].toarray().flatten())]"
   ]
  },
  {
   "cell_type": "code",
   "execution_count": 11,
   "metadata": {
    "collapsed": false
   },
   "outputs": [
    {
     "name": "stdout",
     "output_type": "stream",
     "text": [
      "Average jaccard: 0.0277056277056\n"
     ]
    }
   ],
   "source": [
    "matches = {}\n",
    "jaccard = {}\n",
    "partials = {}\n",
    "partial_jaccard = {}\n",
    "\n",
    "\n",
    "for name, keys in keywords.items():\n",
    "    extracted_words = extracted[name][-len(keys):]\n",
    "    matches[name.replace('.keys', '')] = list(set(keys).intersection(extracted_words))\n",
    "    jaccard[name.replace('.keys', '')] = float(len(set(keys).intersection(extracted_words))) / len(set(keys).union(set(extracted_words)))\n",
    "    \n",
    "#     inner_partials = []\n",
    "#     for manual_key in extracted[name]:\n",
    "#         manual_tokens = nltk.word_tokenize(manual_key)\n",
    "        \n",
    "        \n",
    "#         for key in keys:\n",
    "#             tokens = nltk.word_tokenize(key)\n",
    "            \n",
    "#             if len(set(manual_tokens).intersection(set(tokens))) > 0:\n",
    "#                 inner_partials.append((manual_key, key)) \n",
    "#                 break\n",
    "    \n",
    "#     partials[name.replace('.keys', '')] = inner_partials\n",
    "#     partial_jaccard[name.replace('.keys', '')] = float(len(inner_partials)) / (len(keys) + len(extracted[name]) - len(inner_partials))\n",
    "    \n",
    "print('Average jaccard: {}'.format(sum(jaccard.values()) / len(jaccard)))\n",
    "# print('Average partial jaccard: {}'.format(sum(partial_jaccard.values()) / len(partial_jaccard)))"
   ]
  },
  {
   "cell_type": "code",
   "execution_count": 12,
   "metadata": {
    "collapsed": false
   },
   "outputs": [
    {
     "name": "stdout",
     "output_type": "stream",
     "text": [
      "Average jaccard: 0.0581663837012\n"
     ]
    }
   ],
   "source": [
    "matches = {}\n",
    "jaccard = {}\n",
    "partials = {}\n",
    "partial_jaccard = {}\n",
    "\n",
    "\n",
    "for name, keys in keywords.items():\n",
    "    extracted_words = extracted[name][-2*len(keys):]\n",
    "    matches[name.replace('.keys', '')] = list(set(keys).intersection(extracted_words))\n",
    "    jaccard[name.replace('.keys', '')] = float(len(set(keys).intersection(extracted_words))) / len(set(keys).union(set(extracted_words)))\n",
    "    \n",
    "#     inner_partials = []\n",
    "#     for manual_key in extracted[name]:\n",
    "#         manual_tokens = nltk.word_tokenize(manual_key)\n",
    "        \n",
    "        \n",
    "#         for key in keys:\n",
    "#             tokens = nltk.word_tokenize(key)\n",
    "            \n",
    "#             if len(set(manual_tokens).intersection(set(tokens))) > 0:\n",
    "#                 inner_partials.append((manual_key, key)) \n",
    "#                 break\n",
    "    \n",
    "#     partials[name.replace('.keys', '')] = inner_partials\n",
    "#     partial_jaccard[name.replace('.keys', '')] = float(len(inner_partials)) / (len(keys) + len(extracted[name]) - len(inner_partials))\n",
    "    \n",
    "print('Average jaccard (2x): {}'.format(sum(jaccard.values()) / len(jaccard)))\n",
    "# print('Average partial jaccard: {}'.format(sum(partial_jaccard.values()) / len(partial_jaccard)))"
   ]
  }
 ],
 "metadata": {
  "kernelspec": {
   "display_name": "Python 2",
   "language": "python",
   "name": "python2"
  },
  "language_info": {
   "codemirror_mode": {
    "name": "ipython",
    "version": 2
   },
   "file_extension": ".py",
   "mimetype": "text/x-python",
   "name": "python",
   "nbconvert_exporter": "python",
   "pygments_lexer": "ipython2",
   "version": "2.7.10"
  }
 },
 "nbformat": 4,
 "nbformat_minor": 0
}
