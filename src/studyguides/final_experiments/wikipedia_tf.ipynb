{
 "cells": [
  {
   "cell_type": "code",
   "execution_count": 1,
   "metadata": {
    "collapsed": true
   },
   "outputs": [],
   "source": [
    "import os\n",
    "import nltk\n",
    "import wikipedia\n",
    "import re\n",
    "\n",
    "import numpy as np\n",
    "\n",
    "from collections import OrderedDict, defaultdict\n",
    "from sklearn.feature_extraction.text import CountVectorizer, TfidfVectorizer\n",
    "from IPython.display import display\n",
    "from ipywidgets import IntProgress"
   ]
  },
  {
   "cell_type": "code",
   "execution_count": 2,
   "metadata": {
    "collapsed": false
   },
   "outputs": [],
   "source": [
    "documents = OrderedDict()\n",
    "\n",
    "for name in os.listdir('/Users/andrewlamb/Google_Drive/Stanford/CS199/DB_SelfPaced/Flat'):\n",
    "    with open('/Users/andrewlamb/Google_Drive/Stanford/CS199/DB_SelfPaced/Flat/' + name) as f:\n",
    "        lines = []\n",
    "        for line in f:\n",
    "            lines.append(line.strip('| \\n'))\n",
    "        documents[name] = (' '.join(lines))\n",
    "        \n",
    "keywords = defaultdict(set)\n",
    "stemmer = nltk.stem.PorterStemmer()\n",
    "\n",
    "for name in os.listdir('/Users/andrewlamb/Google_Drive/Stanford/CS199/studyguides/data/keywords'):\n",
    "    with open('/Users/andrewlamb/Google_Drive/Stanford/CS199/studyguides/data/keywords/' + name) as f:\n",
    "        for line in f:\n",
    "            lecture_name, key, _, rank = line.strip().split(',')\n",
    "            rank = int(rank)\n",
    "            if rank > -1:\n",
    "                key = key.replace('-', ' ')\n",
    "                key = ' '.join(stemmer.stem(token) for token in nltk.word_tokenize(key))\n",
    "                key = key.lower()\n",
    "                keywords[lecture_name].add(key)"
   ]
  },
  {
   "cell_type": "code",
   "execution_count": 3,
   "metadata": {
    "collapsed": false
   },
   "outputs": [],
   "source": [
    "wikipedia_documents = {}\n",
    "\n",
    "prog = IntProgress(min=0, max=len(documents))\n",
    "display(prog)\n",
    "\n",
    "for name in documents.keys():\n",
    "    search = re.sub('\\d+_\\d+', '', name)\n",
    "    search = re.sub('Part_\\d+', '', search)\n",
    "    search = search.replace('Demo', '')\n",
    "    search = search.replace('.txt', '')\n",
    "    search = search.replace('_', ' ')\n",
    "    search = search.strip()\n",
    "    search = search.lower()\n",
    "    \n",
    "    results = wikipedia.search(search)\n",
    "    \n",
    "    for result in results:\n",
    "        try:\n",
    "            page = wikipedia.page(result)\n",
    "            break\n",
    "        except wikipedia.DisambiguationError:\n",
    "            pass\n",
    "        \n",
    "    wikipedia_documents[name] = page\n",
    "    \n",
    "    prog.value += 1"
   ]
  },
  {
   "cell_type": "code",
   "execution_count": null,
   "metadata": {
    "collapsed": false
   },
   "outputs": [],
   "source": [
    "wikipedia.search('JSON Data'.lower())"
   ]
  },
  {
   "cell_type": "code",
   "execution_count": null,
   "metadata": {
    "collapsed": false
   },
   "outputs": [],
   "source": [
    "wikipedia_documents"
   ]
  },
  {
   "cell_type": "code",
   "execution_count": null,
   "metadata": {
    "collapsed": false
   },
   "outputs": [],
   "source": [
    "# Fix up some of the pages with bad results.\n",
    "wikipedia_documents['01_01_Introduction.txt'] = wikipedia.page('database')\n",
    "wikipedia_documents['06_02_Basic_SELECT_Statement.txt'] = wikipedia.page('select (sql)')\n",
    "wikipedia_documents['06_03_Table_Variables_and_Set_Operators.txt'] = wikipedia.page('sql')\n",
    "wikipedia_documents['06_05_Aggregation.txt'] = wikipedia.page('aggregate function')\n",
    "wikipedia_documents['06_06_NULL_Values.txt'] = wikipedia.page('sql (null)')\n",
    "wikipedia_documents['06_08_The_JOIN_Family_of_Operators.txt'] = wikipedia.page('join (sql)')\n",
    "wikipedia_documents['09_01_UML_Data_Modeling.txt'] = wikipedia.page('unified modeling language')\n",
    "wikipedia_documents['09_02_UML_to_Relations_Part_1.txt'] = wikipedia.page('unified modeling language')\n",
    "wikipedia_documents['09_02_UML_to_Relations_Part_2.txt'] = wikipedia.page('unified modeling language')\n",
    "wikipedia_documents['09_02_UML_to_Relations_Part_3.txt'] = wikipedia.page('unified modeling language')\n",
    "wikipedia_documents['10_01_Indexes_Part_1.txt'] = wikipedia.page('database index')\n",
    "wikipedia_documents['10_01_Indexes_Part_2.txt'] = wikipedia.page('database index')\n",
    "wikipedia_documents['11_01_Introduction_to_Transactions.txt'] = wikipedia.page('database transaction')\n",
    "wikipedia_documents['11_02_Transactions_Properties_Part_1.txt'] = wikipedia.page('database transaction')\n",
    "wikipedia_documents['11_02_Transactions_Properties_Part_2.txt'] = wikipedia.page('database transaction')\n",
    "wikipedia_documents['11_02_Transactions_Properties_Part_3.txt'] = wikipedia.page('database transaction')\n",
    "wikipedia_documents['12_01_Motivation_and_Overview.txt'] = wikipedia.page('database trigger')\n",
    "wikipedia_documents['12_02_Constraints_of_Several_Types_Part_1.txt'] = wikipedia.page('database')\n",
    "wikipedia_documents['12_02_Constraints_of_Several_Types_Part_2.txt'] = wikipedia.page('database')\n",
    "wikipedia_documents['12_04_Triggers_Introduction.txt'] = wikipedia.page('database trigger')\n",
    "wikipedia_documents['12_05_Triggers_Demo_Part_1.txt'] = wikipedia.page('database trigger')\n",
    "wikipedia_documents['12_05_Triggers_Demo_Part_2.txt'] = wikipedia.page('database trigger')\n",
    "wikipedia_documents['13_01_Defining_and_Using_Views.txt'] = wikipedia.page('view (sql)')\n",
    "wikipedia_documents['13_02_View_Modifications_Introduction_Part_1.txt'] = wikipedia.page('view (sql)')\n",
    "wikipedia_documents['13_02_View_Modifications_Introduction_Part_2.txt'] = wikipedia.page('view (sql)')\n",
    "wikipedia_documents['13_04_Automatic_View_Modifications.txt'] = wikipedia.page('view (sql)')\n",
    "wikipedia_documents['15_03_Nonlinear_and_Mutual_Recursion_Part_1.txt'] = wikipedia.page('recursion (computer science)')\n",
    "wikipedia_documents['15_03_Nonlinear_and_Mutual_Recursion_Part_2.txt'] = wikipedia.page('recursion (computer science)')\n",
    "wikipedia_documents['16_01_Introduction_to_OLAP_Part_1.txt'] = wikipedia.page('online analytical processing')\n",
    "wikipedia_documents['16_01_Introduction_to_OLAP_Part_2.txt'] = wikipedia.page('online analytical processing')\n",
    "wikipedia_documents['17_01_NoSQLMotivation.txt'] = wikipedia.page('nosql')\n",
    "wikipedia_documents['17_01_NoSQLOverview.txt'] = wikipedia.page('nosql')"
   ]
  },
  {
   "cell_type": "code",
   "execution_count": 4,
   "metadata": {
    "collapsed": false
   },
   "outputs": [],
   "source": [
    "combined_documents = OrderedDict()\n",
    "\n",
    "for name, document in documents.items():\n",
    "    combined_documents[name] = ' '.join([document, wikipedia_documents[name].content])"
   ]
  },
  {
   "cell_type": "code",
   "execution_count": 5,
   "metadata": {
    "collapsed": false
   },
   "outputs": [],
   "source": [
    "stemmed_documents = OrderedDict()\n",
    "\n",
    "for name, document in documents.items():\n",
    "    document = document.replace('-', ' ')\n",
    "    document = ' '.join([stemmer.stem(token) for token in nltk.word_tokenize(document)])\n",
    "    stemmed_documents[name] = document.lower()\n",
    "    \n",
    "stemmed_combined_documents = OrderedDict()\n",
    "\n",
    "for name, document in combined_documents.items():\n",
    "    stemmed_combined_document = document.replace('-', ' ')\n",
    "    stemmed_combined_document = ' '.join([stemmer.stem(token) for token in nltk.word_tokenize(stemmed_combined_document)])\n",
    "    stemmed_combined_documents[name] = stemmed_combined_document.lower()"
   ]
  },
  {
   "cell_type": "code",
   "execution_count": 7,
   "metadata": {
    "collapsed": false
   },
   "outputs": [],
   "source": [
    "stopwords = []\n",
    "with open('/Users/andrewlamb/Google_Drive/Stanford/CS199/RAKE-tutorial/SmartStoplistAdditional.txt') as f:\n",
    "    for line in f:\n",
    "        stopwords.append(line.strip())\n",
    "\n",
    "lecture_extractor = TfidfVectorizer(stop_words=stopwords, ngram_range=(1,4), norm=None, smooth_idf=False)\n",
    "lecture_extractor.fit(stemmed_documents.values())\n",
    "\n",
    "extractor = TfidfVectorizer(stop_words=stopwords, ngram_range=(1,4), vocabulary=lecture_extractor.vocabulary_)\n",
    "X = extractor.fit_transform(stemmed_combined_documents.values())\n",
    "inverse_voc = {v: k for k, v in extractor.vocabulary_.items()}\n",
    "\n",
    "extracted = {}\n",
    "for doc_idx, name in enumerate(stemmed_documents.keys()):\n",
    "    extracted[name] = [inverse_voc[idx] for idx in np.argsort(X[doc_idx,:].toarray().flatten())]"
   ]
  },
  {
   "cell_type": "code",
   "execution_count": 8,
   "metadata": {
    "collapsed": false
   },
   "outputs": [
    {
     "name": "stdout",
     "output_type": "stream",
     "text": [
      "Average jaccard: 0.12340186835\n"
     ]
    }
   ],
   "source": [
    "matches = OrderedDict()\n",
    "jaccard = OrderedDict()\n",
    "\n",
    "for name, keys in sorted(keywords.items()):\n",
    "    extracted_words = extracted[name][-len(keys):]\n",
    "    matches[name.replace('.keys', '')] = list(set(keys).intersection(extracted_words))\n",
    "    jaccard[name.replace('.keys', '')] = float(len(set(keys).intersection(extracted_words))) / len(set(keys).union(set(extracted_words)))\n",
    "    \n",
    "print('Average jaccard: {}'.format(sum(jaccard.values()) / len(jaccard)))"
   ]
  },
  {
   "cell_type": "code",
   "execution_count": null,
   "metadata": {
    "collapsed": false
   },
   "outputs": [],
   "source": [
    "sorted(matches.items()[6])"
   ]
  },
  {
   "cell_type": "code",
   "execution_count": null,
   "metadata": {
    "collapsed": false
   },
   "outputs": [],
   "source": [
    "documents['03_02_DTDs_IDs_and_IDREFs.txt'].lower().count('xml schema')"
   ]
  },
  {
   "cell_type": "code",
   "execution_count": null,
   "metadata": {
    "collapsed": false
   },
   "outputs": [],
   "source": [
    "wikipedia_documents['03_02_DTDs_IDs_and_IDREFs.txt'].content.lower().count('xml schema')"
   ]
  },
  {
   "cell_type": "code",
   "execution_count": null,
   "metadata": {
    "collapsed": false
   },
   "outputs": [],
   "source": [
    "keywords['03_02_DTDs_IDs_and_IDREFs.txt']"
   ]
  },
  {
   "cell_type": "code",
   "execution_count": 9,
   "metadata": {
    "collapsed": false
   },
   "outputs": [
    {
     "name": "stdout",
     "output_type": "stream",
     "text": [
      "Average jaccard: 0.107637982346\n"
     ]
    }
   ],
   "source": [
    "matches = OrderedDict()\n",
    "jaccard = OrderedDict()\n",
    "\n",
    "for name, keys in sorted(keywords.items()):\n",
    "    extracted_words = extracted[name][-2*len(keys):]\n",
    "    matches[name.replace('.keys', '')] = list(set(keys).intersection(extracted_words))\n",
    "    jaccard[name.replace('.keys', '')] = float(len(set(keys).intersection(extracted_words))) / len(set(keys).union(set(extracted_words)))\n",
    "    \n",
    "print('Average jaccard: {}'.format(sum(jaccard.values()) / len(jaccard)))"
   ]
  },
  {
   "cell_type": "code",
   "execution_count": 10,
   "metadata": {
    "collapsed": false
   },
   "outputs": [],
   "source": [
    "with open('wiki_keys.csv', 'w') as f:\n",
    "    for document, keys in sorted(extracted.items()):\n",
    "        keys = list(reversed(keys))\n",
    "        for i, key in enumerate(keys[:10]):\n",
    "            if i < 5:\n",
    "                f.write('{},{},{}\\n'.format(document, key, i + 1))\n",
    "            else:\n",
    "                f.write('{},{},{}\\n'.format(document, key, 0))"
   ]
  },
  {
   "cell_type": "code",
   "execution_count": null,
   "metadata": {
    "collapsed": true
   },
   "outputs": [],
   "source": []
  }
 ],
 "metadata": {
  "kernelspec": {
   "display_name": "Python 2",
   "language": "python",
   "name": "python2"
  },
  "language_info": {
   "codemirror_mode": {
    "name": "ipython",
    "version": 2
   },
   "file_extension": ".py",
   "mimetype": "text/x-python",
   "name": "python",
   "nbconvert_exporter": "python",
   "pygments_lexer": "ipython2",
   "version": "2.7.10"
  }
 },
 "nbformat": 4,
 "nbformat_minor": 0
}
