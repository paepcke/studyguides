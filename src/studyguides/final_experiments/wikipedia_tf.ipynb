{
 "cells": [
  {
   "cell_type": "code",
   "execution_count": 1,
   "metadata": {
    "collapsed": true
   },
   "outputs": [],
   "source": [
    "import os\n",
    "import nltk\n",
    "import wikipedia\n",
    "import re\n",
    "\n",
    "import numpy as np\n",
    "\n",
    "from collections import OrderedDict\n",
    "from sklearn.feature_extraction.text import CountVectorizer\n",
    "from IPython.display import display\n",
    "from ipywidgets import IntProgress"
   ]
  },
  {
   "cell_type": "code",
   "execution_count": 2,
   "metadata": {
    "collapsed": false
   },
   "outputs": [],
   "source": [
    "documents = OrderedDict()\n",
    "\n",
    "for name in os.listdir('/Users/andrewlamb/Google_Drive/Stanford/CS199/DB_SelfPaced/Flat'):\n",
    "    with open('/Users/andrewlamb/Google_Drive/Stanford/CS199/DB_SelfPaced/Flat/' + name) as f:\n",
    "        lines = []\n",
    "        for line in f:\n",
    "            lines.append(line.strip('| \\n'))\n",
    "        documents[name] = (' '.join(lines))\n",
    "        \n",
    "keywords = {}\n",
    "stemmer = nltk.stem.PorterStemmer()\n",
    "\n",
    "for name in os.listdir('/Users/andrewlamb/Google_Drive/Stanford/CS199/DB_SelfPaced/Keys'):\n",
    "    with open('/Users/andrewlamb/Google_Drive/Stanford/CS199/DB_SelfPaced/Keys/' + name) as f:\n",
    "        keys = []\n",
    "        for line in f:\n",
    "            key = line.strip()\n",
    "            key = key.replace('-', ' ')\n",
    "            key = ' '.join(stemmer.stem(token) for token in nltk.word_tokenize(key))\n",
    "            key = key.lower()\n",
    "\n",
    "            keys.append(key)\n",
    "            \n",
    "        keywords[name] = keys"
   ]
  },
  {
   "cell_type": "code",
   "execution_count": 3,
   "metadata": {
    "collapsed": false
   },
   "outputs": [],
   "source": [
    "wikipedia_documents = {}\n",
    "\n",
    "prog = IntProgress(min=0, max=len(documents))\n",
    "display(prog)\n",
    "\n",
    "for name in documents.keys():\n",
    "    search = re.sub('\\d+_\\d+', '', name)\n",
    "    search = re.sub('Part_\\d+', '', search)\n",
    "    search = search.replace('Demo', '')\n",
    "    search = search.replace('.txt', '')\n",
    "    search = search.replace('_', ' ')\n",
    "    search = search.strip()\n",
    "    search = search.lower()\n",
    "    \n",
    "    results = wikipedia.search(search)\n",
    "    \n",
    "    for result in results:\n",
    "        try:\n",
    "            page = wikipedia.page(result)\n",
    "            break\n",
    "        except wikipedia.DisambiguationError:\n",
    "            pass\n",
    "        \n",
    "    wikipedia_documents[name] = page\n",
    "    \n",
    "    prog.value += 1"
   ]
  },
  {
   "cell_type": "code",
   "execution_count": 4,
   "metadata": {
    "collapsed": false
   },
   "outputs": [
    {
     "data": {
      "text/plain": [
       "{'01_01_Introduction.txt': <WikipediaPage 'Introduction and Rondo Capriccioso'>,\n",
       " '02_01_The_Relational_Model.txt': <WikipediaPage 'Relational model'>,\n",
       " '02_02_Querying_Relational_Databases.txt': <WikipediaPage 'Query language'>,\n",
       " '03_01_Well_Formed_XML_Part_1.txt': <WikipediaPage 'XML'>,\n",
       " '03_01_Well_Formed_XML_Part_2.txt': <WikipediaPage 'XML'>,\n",
       " '03_02_DTDs_IDs_and_IDREFs.txt': <WikipediaPage 'XML'>,\n",
       " '03_02_XML_Schema.txt': <WikipediaPage 'XML schema'>,\n",
       " '04_01_Introduction_to_JSON_Data_Part_1.txt': <WikipediaPage 'JSON'>,\n",
       " '04_01_Introduction_to_JSON_Data_Part_2.txt': <WikipediaPage 'JSON'>,\n",
       " '04_02_JSON_Demo.txt': <WikipediaPage 'JSON'>,\n",
       " '05_01_Select_Project_Join_Part_1.txt': <WikipediaPage 'Monotonic query'>,\n",
       " '05_01_Select_Project_Join_Part_2.txt': <WikipediaPage 'Monotonic query'>,\n",
       " '05_01_Select_Project_Join_Part_3.txt': <WikipediaPage 'Monotonic query'>,\n",
       " '05_01_Select_Project_Join_Part_4.txt': <WikipediaPage 'Monotonic query'>,\n",
       " '05_02_Set_Operators_Renaming_Notation_Part_1.txt': <WikipediaPage 'Lambda calculus'>,\n",
       " '05_02_Set_Operators_Renaming_Notation_Part_2.txt': <WikipediaPage 'Lambda calculus'>,\n",
       " '05_02_Set_Operators_Renaming_Notation_Part_3.txt': <WikipediaPage 'Lambda calculus'>,\n",
       " '06_01_Introduction_to_SQL.txt': <WikipediaPage 'SQL'>,\n",
       " '06_02_Basic_SELECT_Statement.txt': <WikipediaPage 'Visual Basic'>,\n",
       " '06_03_Table_Variables_and_Set_Operators.txt': <WikipediaPage 'Correlation and dependence'>,\n",
       " '06_04_Subqueries_in_FROM_and_SELECT.txt': <WikipediaPage 'SQL'>,\n",
       " '06_04_Subqueries_in_WHERE_Clause.txt': <WikipediaPage 'SQL'>,\n",
       " '06_05_Aggregation.txt': <WikipediaPage 'News aggregator'>,\n",
       " '06_06_NULL_Values.txt': <WikipediaPage 'Null pointer'>,\n",
       " '06_07_Data_Modification_Statements.txt': <WikipediaPage 'Insert (SQL)'>,\n",
       " '06_08_The_JOIN_Family_of_Operators.txt': <WikipediaPage 'Association of Independent Tour Operators'>,\n",
       " '07_01_Functional_Dependencies_Part_5.txt': <WikipediaPage 'Functional dependency'>,\n",
       " '07_01_Relational_Design_Overview_Part_1.txt': <WikipediaPage 'Relational database'>,\n",
       " '07_01_Relational_Design_Overview_Part_2.txt': <WikipediaPage 'Relational database'>,\n",
       " '07_01_Relational_Design_Overview_Part_3.txt': <WikipediaPage 'Relational database'>,\n",
       " '07_01_Relational_Design_Overview_Part_4.txt': <WikipediaPage 'Relational database'>,\n",
       " '07_02_Functional_Dependencies_Part_1.txt': <WikipediaPage 'Functional dependency'>,\n",
       " '07_02_Functional_Dependencies_Part_2.txt': <WikipediaPage 'Functional dependency'>,\n",
       " '07_02_Functional_Dependencies_Part_3.txt': <WikipediaPage 'Functional dependency'>,\n",
       " '07_02_Functional_Dependencies_Part_4.txt': <WikipediaPage 'Functional dependency'>,\n",
       " '07_03_Boyce_Codd_Normal_Form_Part_1.txt': <WikipediaPage 'Boyce–Codd normal form'>,\n",
       " '07_03_Boyce_Codd_Normal_Form_Part_2.txt': <WikipediaPage 'Boyce–Codd normal form'>,\n",
       " '07_03_Boyce_Codd_Normal_Form_Part_3.txt': <WikipediaPage 'Boyce–Codd normal form'>,\n",
       " '07_04_Multivalued_Dependencies_and_4th_Normal_Form_Part_1.txt': <WikipediaPage 'Fourth normal form'>,\n",
       " '07_04_Multivalued_Dependencies_and_4th_Normal_Form_Part_2.txt': <WikipediaPage 'Fourth normal form'>,\n",
       " '07_04_Multivalued_Dependencies_and_4th_Normal_Form_Part_3.txt': <WikipediaPage 'Fourth normal form'>,\n",
       " '07_04_Multivalued_Dependencies_and_4th_Normal_Form_Part_4.txt': <WikipediaPage 'Fourth normal form'>,\n",
       " '07_05_Shortcomings_of_BCNF_and_4NF.txt': <WikipediaPage 'Fourth normal form'>,\n",
       " '08_01_XPath_Introduction.txt': <WikipediaPage 'XPath'>,\n",
       " '08_02_XPath_Demo.txt': <WikipediaPage 'XPath'>,\n",
       " '08_03_XQuery_Introduction.txt': <WikipediaPage 'XQuery'>,\n",
       " '08_04_XQuery_Demo.txt': <WikipediaPage 'XQuery'>,\n",
       " '08_05_XSLT.txt': <WikipediaPage 'XSLT'>,\n",
       " '09_01_UML_Data_Modeling.txt': <WikipediaPage 'Data modeling'>,\n",
       " '09_02_UML_to_Relations_Part_1.txt': <WikipediaPage 'Diagram'>,\n",
       " '09_02_UML_to_Relations_Part_2.txt': <WikipediaPage 'Diagram'>,\n",
       " '09_02_UML_to_Relations_Part_3.txt': <WikipediaPage 'Diagram'>,\n",
       " '10_01_Indexes_Part_1.txt': <WikipediaPage 'Citation index'>,\n",
       " '10_01_Indexes_Part_2.txt': <WikipediaPage 'Citation index'>,\n",
       " '11_01_Introduction_to_Transactions.txt': <WikipediaPage 'Asclepius of Tralles'>,\n",
       " '11_02_Transactions_Properties_Part_1.txt': <WikipediaPage 'Momotaro Dentetsu'>,\n",
       " '11_02_Transactions_Properties_Part_2.txt': <WikipediaPage 'Momotaro Dentetsu'>,\n",
       " '11_02_Transactions_Properties_Part_3.txt': <WikipediaPage 'Momotaro Dentetsu'>,\n",
       " '11_03_Isolation_Levels_Part_1.txt': <WikipediaPage 'Isolation (database systems)'>,\n",
       " '11_03_Isolation_Levels_Part_2.txt': <WikipediaPage 'Isolation (database systems)'>,\n",
       " '11_03_Isolation_Levels_Part_3.txt': <WikipediaPage 'Isolation (database systems)'>,\n",
       " '11_03_Isolation_Levels_Part_4.txt': <WikipediaPage 'Isolation (database systems)'>,\n",
       " '12_01_Motivation_and_Overview.txt': <WikipediaPage 'Verifiable computing'>,\n",
       " '12_02_Constraints_of_Several_Types_Part_1.txt': <WikipediaPage 'Constraint (mathematics)'>,\n",
       " '12_02_Constraints_of_Several_Types_Part_2.txt': <WikipediaPage 'Constraint (mathematics)'>,\n",
       " '12_03_Referential_Integrity_Part_1.txt': <WikipediaPage 'Referential integrity'>,\n",
       " '12_03_Referential_Integrity_Part_2.txt': <WikipediaPage 'Referential integrity'>,\n",
       " '12_03_Referential_Integrity_Part_3.txt': <WikipediaPage 'Referential integrity'>,\n",
       " '12_04_Triggers_Introduction.txt': <WikipediaPage 'Discourse representation theory'>,\n",
       " '12_05_Triggers_Demo_Part_1.txt': <WikipediaPage 'Spawning trigger'>,\n",
       " '12_05_Triggers_Demo_Part_2.txt': <WikipediaPage 'Spawning trigger'>,\n",
       " '13_01_Defining_and_Using_Views.txt': <WikipediaPage 'AIDS-defining clinical condition'>,\n",
       " '13_02_View_Modifications_Introduction_Part_1.txt': <WikipediaPage 'DNA'>,\n",
       " '13_02_View_Modifications_Introduction_Part_2.txt': <WikipediaPage 'DNA'>,\n",
       " '13_03_View_Modifications_Using_Triggers.txt': <WikipediaPage 'Database trigger'>,\n",
       " '13_04_Automatic_View_Modifications.txt': <WikipediaPage 'M249 light machine gun'>,\n",
       " '13_05_Materialized_Views_Part_1.txt': <WikipediaPage 'Materialized view'>,\n",
       " '13_05_Materialized_Views_Part_2.txt': <WikipediaPage 'Materialized view'>,\n",
       " '13_05_Materialized_Views_Part_3.txt': <WikipediaPage 'Materialized view'>,\n",
       " '14_01_Authorization_Part_1.txt': <WikipediaPage 'Authorization'>,\n",
       " '14_01_Authorization_Part_2.txt': <WikipediaPage 'Authorization'>,\n",
       " '14_01_Authorization_Part_3.txt': <WikipediaPage 'Authorization'>,\n",
       " '14_01_Authorization_Part_4.txt': <WikipediaPage 'Authorization'>,\n",
       " '15_01_Basic_Recursive_WITH_Statement_Introduction.txt': <WikipediaPage 'Recursion (computer science)'>,\n",
       " '15_02_Basic_Recursive_WITH_Statement_Demo.txt': <WikipediaPage 'Recursion (computer science)'>,\n",
       " '15_03_Nonlinear_and_Mutual_Recursion_Part_1.txt': <WikipediaPage 'Coupled map lattice'>,\n",
       " '15_03_Nonlinear_and_Mutual_Recursion_Part_2.txt': <WikipediaPage 'Coupled map lattice'>,\n",
       " '16_01_Introduction_to_OLAP_Part_1.txt': <WikipediaPage 'OLAP cube'>,\n",
       " '16_01_Introduction_to_OLAP_Part_2.txt': <WikipediaPage 'OLAP cube'>,\n",
       " '16_02_OLAP_Demo.txt': <WikipediaPage 'Online analytical processing'>,\n",
       " '17_01_NoSQLMotivation.txt': <WikipediaPage 'Online analytical processing'>,\n",
       " '17_01_NoSQLOverview.txt': <WikipediaPage 'Online analytical processing'>}"
      ]
     },
     "execution_count": 4,
     "metadata": {},
     "output_type": "execute_result"
    }
   ],
   "source": [
    "wikipedia_documents"
   ]
  },
  {
   "cell_type": "code",
   "execution_count": 5,
   "metadata": {
    "collapsed": false
   },
   "outputs": [],
   "source": [
    "# Fix up some of the pages with bad results.\n",
    "wikipedia_documents['01_01_Introduction.txt'] = wikipedia.page('database')\n",
    "wikipedia_documents['06_02_Basic_SELECT_Statement.txt'] = wikipedia.page('select (sql)')\n",
    "wikipedia_documents['06_03_Table_Variables_and_Set_Operators.txt'] = wikipedia.page('sql')\n",
    "wikipedia_documents['06_05_Aggregation.txt'] = wikipedia.page('aggregate function')\n",
    "wikipedia_documents['06_06_NULL_Values.txt'] = wikipedia.page('sql (null)')\n",
    "wikipedia_documents['06_08_The_JOIN_Family_of_Operators.txt'] = wikipedia.page('join (sql)')\n",
    "wikipedia_documents['09_01_UML_Data_Modeling.txt'] = wikipedia.page('unified modeling language')\n",
    "wikipedia_documents['09_02_UML_to_Relations_Part_1.txt'] = wikipedia.page('unified modeling language')\n",
    "wikipedia_documents['09_02_UML_to_Relations_Part_2.txt'] = wikipedia.page('unified modeling language')\n",
    "wikipedia_documents['09_02_UML_to_Relations_Part_3.txt'] = wikipedia.page('unified modeling language')\n",
    "wikipedia_documents['10_01_Indexes_Part_1.txt'] = wikipedia.page('database index')\n",
    "wikipedia_documents['10_01_Indexes_Part_2.txt'] = wikipedia.page('database index')\n",
    "wikipedia_documents['11_01_Introduction_to_Transactions.txt'] = wikipedia.page('database transaction')\n",
    "wikipedia_documents['11_02_Transactions_Properties_Part_1.txt'] = wikipedia.page('database transaction')\n",
    "wikipedia_documents['11_02_Transactions_Properties_Part_2.txt'] = wikipedia.page('database transaction')\n",
    "wikipedia_documents['11_02_Transactions_Properties_Part_3.txt'] = wikipedia.page('database transaction')\n",
    "wikipedia_documents['12_01_Motivation_and_Overview.txt'] = wikipedia.page('database trigger')\n",
    "wikipedia_documents['12_02_Constraints_of_Several_Types_Part_1.txt'] = wikipedia.page('database')\n",
    "wikipedia_documents['12_02_Constraints_of_Several_Types_Part_2.txt'] = wikipedia.page('database')\n",
    "wikipedia_documents['12_04_Triggers_Introduction.txt'] = wikipedia.page('database trigger')\n",
    "wikipedia_documents['12_05_Triggers_Demo_Part_1.txt'] = wikipedia.page('database trigger')\n",
    "wikipedia_documents['12_05_Triggers_Demo_Part_2.txt'] = wikipedia.page('database trigger')\n",
    "wikipedia_documents['13_01_Defining_and_Using_Views.txt'] = wikipedia.page('view (sql)')\n",
    "wikipedia_documents['13_02_View_Modifications_Introduction_Part_1.txt'] = wikipedia.page('view (sql)')\n",
    "wikipedia_documents['13_02_View_Modifications_Introduction_Part_2.txt'] = wikipedia.page('view (sql)')\n",
    "wikipedia_documents['13_04_Automatic_View_Modifications.txt'] = wikipedia.page('view (sql)')\n",
    "wikipedia_documents['15_03_Nonlinear_and_Mutual_Recursion_Part_1.txt'] = wikipedia.page('recursion (computer science)')\n",
    "wikipedia_documents['15_03_Nonlinear_and_Mutual_Recursion_Part_2.txt'] = wikipedia.page('recursion (computer science)')\n",
    "wikipedia_documents['16_01_Introduction_to_OLAP_Part_1.txt'] = wikipedia.page('online analytical processing')\n",
    "wikipedia_documents['16_01_Introduction_to_OLAP_Part_2.txt'] = wikipedia.page('online analytical processing')\n",
    "wikipedia_documents['17_01_NoSQLMotivation.txt'] = wikipedia.page('nosql')\n",
    "wikipedia_documents['17_01_NoSQLOverview.txt'] = wikipedia.page('nosql')"
   ]
  },
  {
   "cell_type": "code",
   "execution_count": 6,
   "metadata": {
    "collapsed": false
   },
   "outputs": [],
   "source": [
    "stemmed_wikipedia_documents = {}\n",
    "\n",
    "for key, document in wikipedia_documents.items():\n",
    "    stemmed_document = document.content.replace('-', ' ')\n",
    "    stemmed_document = ' '.join([stemmer.stem(token) for token in nltk.word_tokenize(stemmed_document)])\n",
    "    stemmed_wikipedia_documents[key] = stemmed_document.lower()\n",
    "    \n",
    "stemmed_documents = OrderedDict()\n",
    "\n",
    "for name, document in documents.items():\n",
    "    stemmed_document = document.replace('-', ' ')\n",
    "    stemmed_document = ' '.join([stemmer.stem(token) for token in nltk.word_tokenize(document)])\n",
    "    stemmed_documents[name] = stemmed_document.lower()"
   ]
  },
  {
   "cell_type": "code",
   "execution_count": 7,
   "metadata": {
    "collapsed": false
   },
   "outputs": [],
   "source": [
    "stopwords = []\n",
    "with open('/Users/andrewlamb/Google_Drive/Stanford/CS199/RAKE-tutorial/SmartStoplistAdditional.txt') as f:\n",
    "    for line in f:\n",
    "        stopwords.append(stemmer.stem(line.strip()))\n",
    "\n",
    "wikipedia_extractor = CountVectorizer(stop_words=stopwords, ngram_range=(1,4))\n",
    "wikipedia_X = wikipedia_extractor.fit_transform(stemmed_wikipedia_documents.values())\n",
    "inverse_wikipedia_voc = {v: k for k, v in wikipedia_extractor.vocabulary_.items()}\n",
    "\n",
    "wikipedia_extracted = {}\n",
    "for doc_idx, (name, keys) in enumerate(documents.items()):\n",
    "    n_keywords = len(keys)\n",
    "    wikipedia_extracted[name] = [\n",
    "        inverse_wikipedia_voc[idx] \n",
    "        for idx in np.argsort(wikipedia_X[doc_idx,:].toarray().flatten())\n",
    "    ]"
   ]
  },
  {
   "cell_type": "code",
   "execution_count": 8,
   "metadata": {
    "collapsed": false
   },
   "outputs": [],
   "source": [
    "extractor = CountVectorizer(stop_words=stopwords, ngram_range=(1,4))\n",
    "X = extractor.fit_transform(stemmed_documents.values())\n",
    "inverse_voc = {v: k for k, v in extractor.vocabulary_.items()}\n",
    "\n",
    "extracted = {}\n",
    "for doc_idx, (name, keys) in enumerate(keywords.items()):\n",
    "    n_keywords = len(keys)\n",
    "    extracted[name] = [inverse_voc[idx] for idx in np.argsort(X[doc_idx,:].toarray().flatten())]"
   ]
  },
  {
   "cell_type": "code",
   "execution_count": 9,
   "metadata": {
    "collapsed": false
   },
   "outputs": [
    {
     "name": "stderr",
     "output_type": "stream",
     "text": [
      "/Users/andrewlamb/anaconda/lib/python2.7/site-packages/scipy/sparse/compressed.py:698: SparseEfficiencyWarning: Changing the sparsity structure of a csr_matrix is expensive. lil_matrix is more efficient.\n",
      "  SparseEfficiencyWarning)\n"
     ]
    }
   ],
   "source": [
    "combined_extracted = {}\n",
    "\n",
    "prog = IntProgress(min=0, max=X.shape[0])\n",
    "display(prog)\n",
    "\n",
    "combined_X = X.copy()\n",
    "for j in range(X.shape[0]):\n",
    "    for i in range(X.shape[1]):\n",
    "        word = inverse_voc[i]\n",
    "        if word in wikipedia_extractor.vocabulary_:\n",
    "            combined_X[j, i] += wikipedia_X[j, wikipedia_extractor.vocabulary_[word]]\n",
    "        \n",
    "    combined_extracted[documents.keys()[j]] = [inverse_voc[idx] for idx in np.argsort(combined_X[j,:].toarray().flatten())]\n",
    "    \n",
    "    prog.value += 1"
   ]
  },
  {
   "cell_type": "code",
   "execution_count": 10,
   "metadata": {
    "collapsed": false
   },
   "outputs": [
    {
     "name": "stdout",
     "output_type": "stream",
     "text": [
      "Average jaccard: 0.112764428554\n"
     ]
    }
   ],
   "source": [
    "matches = {}\n",
    "jaccard = {}\n",
    "partials = {}\n",
    "partial_jaccard = {}\n",
    "\n",
    "\n",
    "for name, keys in keywords.items():\n",
    "    extracted_words = combined_extracted[name.replace('.keys', '.txt')][-len(keys):]\n",
    "    matches[name.replace('.keys', '')] = list(set(keys).intersection(set(extracted_words)))\n",
    "    jaccard[name.replace('.keys', '')] = float(len(set(keys).intersection(set(extracted_words)))) / len(set(keys).union(set(extracted_words)))\n",
    "    \n",
    "#     inner_partials = []\n",
    "#     for manual_key in extracted_words:\n",
    "#         manual_tokens = nltk.word_tokenize(manual_key)\n",
    "        \n",
    "        \n",
    "#         for key in keys:\n",
    "#             tokens = nltk.word_tokenize(key)\n",
    "            \n",
    "#             if len(set(manual_tokens).intersection(set(tokens))) > 0:\n",
    "#                 inner_partials.append((manual_key, key)) \n",
    "#                 break\n",
    "    \n",
    "#     partials[name.replace('.keys', '')] = inner_partials\n",
    "#     partial_jaccard[name.replace('.keys', '')] = float(len(inner_partials)) / (len(keys) + len(extracted_words) - len(inner_partials))\n",
    "    \n",
    "print('Average jaccard: {}'.format(sum(jaccard.values()) / len(jaccard)))\n",
    "# print('Average partial jaccard: {}'.format(sum(partial_jaccard.values()) / len(partial_jaccard)))"
   ]
  },
  {
   "cell_type": "code",
   "execution_count": 30,
   "metadata": {
    "collapsed": false
   },
   "outputs": [
    {
     "data": {
      "text/plain": [
       "['01_01_Introduction.keys',\n",
       " '04_01_Introduction_to_JSON_Data_Part_1.keys',\n",
       " '02_02_Querying_Relational_Databases.keys',\n",
       " '04_02_JSON_Demo.keys',\n",
       " '02_01_The_Relational_Model.keys']"
      ]
     },
     "execution_count": 30,
     "metadata": {},
     "output_type": "execute_result"
    }
   ],
   "source": [
    "keywords.keys()"
   ]
  },
  {
   "cell_type": "code",
   "execution_count": 33,
   "metadata": {
    "collapsed": false
   },
   "outputs": [
    {
     "data": {
      "text/plain": [
       "[u'json',\n",
       " u'array',\n",
       " u'object',\n",
       " u'label valu pair',\n",
       " u'schema',\n",
       " u'composit object',\n",
       " u'syntact correct',\n",
       " u'constraint',\n",
       " u'json schema',\n",
       " u'valid',\n",
       " u'properti',\n",
       " u'semant correct',\n",
       " u'enumer constraint']"
      ]
     },
     "execution_count": 33,
     "metadata": {},
     "output_type": "execute_result"
    }
   ],
   "source": [
    "# Manual keywords.\n",
    "keywords['04_02_JSON_Demo.keys']"
   ]
  },
  {
   "cell_type": "code",
   "execution_count": 36,
   "metadata": {
    "collapsed": false
   },
   "outputs": [
    {
     "data": {
      "text/plain": [
       "{u'array', u'json', u'object', u'schema', u'valid'}"
      ]
     },
     "execution_count": 36,
     "metadata": {},
     "output_type": "execute_result"
    }
   ],
   "source": [
    "# Alg. w/ Wikipedia\n",
    "set(combined_extracted['04_02_JSON_Demo.txt'][-13:]).intersection(set(keywords['04_02_JSON_Demo.keys']))"
   ]
  },
  {
   "cell_type": "code",
   "execution_count": 37,
   "metadata": {
    "collapsed": false
   },
   "outputs": [
    {
     "data": {
      "text/plain": [
       "[u'valid',\n",
       " u'string',\n",
       " u'queri',\n",
       " u'label',\n",
       " u'array',\n",
       " u'databas',\n",
       " u'languag',\n",
       " u'standard',\n",
       " u'object',\n",
       " u'schema',\n",
       " u'json',\n",
       " u'data',\n",
       " u'sql']"
      ]
     },
     "execution_count": 37,
     "metadata": {},
     "output_type": "execute_result"
    }
   ],
   "source": [
    "combined_extracted['04_02_JSON_Demo.txt'][-13:]"
   ]
  },
  {
   "cell_type": "code",
   "execution_count": 39,
   "metadata": {
    "collapsed": false
   },
   "outputs": [
    {
     "data": {
      "text/plain": [
       "{u'schema'}"
      ]
     },
     "execution_count": 39,
     "metadata": {},
     "output_type": "execute_result"
    }
   ],
   "source": [
    "# w/o Wikipedia\n",
    "set(extracted['04_02_JSON_Demo.keys'][-13:]).intersection(set(keywords['04_02_JSON_Demo.keys']))"
   ]
  },
  {
   "cell_type": "code",
   "execution_count": 46,
   "metadata": {
    "collapsed": false
   },
   "outputs": [
    {
     "data": {
      "text/plain": [
       "[u'structur',\n",
       " u'document',\n",
       " u'schema',\n",
       " u'attribut',\n",
       " u'tag',\n",
       " u'order',\n",
       " u'relat model',\n",
       " u'book',\n",
       " u'data',\n",
       " u'relat',\n",
       " u'model',\n",
       " u'element',\n",
       " u'xml']"
      ]
     },
     "execution_count": 46,
     "metadata": {},
     "output_type": "execute_result"
    }
   ],
   "source": [
    "extracted['04_02_JSON_Demo.keys'][-13:]"
   ]
  },
  {
   "cell_type": "code",
   "execution_count": null,
   "metadata": {
    "collapsed": false
   },
   "outputs": [],
   "source": [
    "matches = {}\n",
    "jaccard = {}\n",
    "partials = {}\n",
    "partial_jaccard = {}\n",
    "\n",
    "\n",
    "for name, keys in keywords.items():\n",
    "    extracted_words = combined_extracted[name.replace('.keys', '.txt')][-2*len(keys):]\n",
    "    matches[name.replace('.keys', '')] = list(set(keys).intersection(set(extracted_words)))\n",
    "    jaccard[name.replace('.keys', '')] = float(len(set(keys).intersection(set(extracted_words)))) / len(set(keys).union(set(extracted_words)))\n",
    "    \n",
    "#     inner_partials = []\n",
    "#     for manual_key in extracted_words:\n",
    "#         manual_tokens = nltk.word_tokenize(manual_key)\n",
    "        \n",
    "        \n",
    "#         for key in keys:\n",
    "#             tokens = nltk.word_tokenize(key)\n",
    "            \n",
    "#             if len(set(manual_tokens).intersection(set(tokens))) > 0:\n",
    "#                 inner_partials.append((manual_key, key)) \n",
    "#                 break\n",
    "    \n",
    "#     partials[name.replace('.keys', '')] = inner_partials\n",
    "#     partial_jaccard[name.replace('.keys', '')] = float(len(inner_partials)) / (len(keys) + len(extracted_words) - len(inner_partials))\n",
    "    \n",
    "print('Average jaccard (2x): {}'.format(sum(jaccard.values()) / len(jaccard)))\n",
    "# print('Average partial jaccard: {}'.format(sum(partial_jaccard.values()) / len(partial_jaccard)))"
   ]
  },
  {
   "cell_type": "code",
   "execution_count": null,
   "metadata": {
    "collapsed": true
   },
   "outputs": [],
   "source": []
  }
 ],
 "metadata": {
  "kernelspec": {
   "display_name": "Python 2",
   "language": "python",
   "name": "python2"
  },
  "language_info": {
   "codemirror_mode": {
    "name": "ipython",
    "version": 2
   },
   "file_extension": ".py",
   "mimetype": "text/x-python",
   "name": "python",
   "nbconvert_exporter": "python",
   "pygments_lexer": "ipython2",
   "version": "2.7.10"
  }
 },
 "nbformat": 4,
 "nbformat_minor": 0
}
