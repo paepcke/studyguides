{
 "cells": [
  {
   "cell_type": "code",
   "execution_count": 12,
   "metadata": {
    "collapsed": true
   },
   "outputs": [],
   "source": [
    "import os\n",
    "import nltk\n",
    "import re\n",
    "\n",
    "import numpy as np\n",
    "\n",
    "from collections import OrderedDict\n",
    "from gensim import corpora, models\n",
    "from IPython.display import display\n",
    "from ipywidgets import IntProgress"
   ]
  },
  {
   "cell_type": "code",
   "execution_count": 2,
   "metadata": {
    "collapsed": false
   },
   "outputs": [],
   "source": [
    "documents = OrderedDict()\n",
    "\n",
    "for name in os.listdir('/Users/andrewlamb/Google_Drive/Stanford/CS199/DB_SelfPaced/Flat'):\n",
    "    with open('/Users/andrewlamb/Google_Drive/Stanford/CS199/DB_SelfPaced/Flat/' + name) as f:\n",
    "        lines = []\n",
    "        for line in f:\n",
    "            lines.append(line.strip('| \\n'))\n",
    "        documents[name] = (' '.join(lines))\n",
    "        \n",
    "keywords = {}\n",
    "stemmer = nltk.stem.PorterStemmer()\n",
    "\n",
    "for name in os.listdir('/Users/andrewlamb/Google_Drive/Stanford/CS199/DB_SelfPaced/Keys'):\n",
    "    with open('/Users/andrewlamb/Google_Drive/Stanford/CS199/DB_SelfPaced/Keys/' + name) as f:\n",
    "        keys = []\n",
    "        for line in f:\n",
    "            key = line.strip()\n",
    "            key = key.replace('-', ' ')\n",
    "            key = ' '.join(stemmer.stem(token) for token in nltk.word_tokenize(key))\n",
    "            key = key.lower()\n",
    "\n",
    "            keys.append(key)\n",
    "            \n",
    "        keywords[name] = keys"
   ]
  },
  {
   "cell_type": "code",
   "execution_count": 10,
   "metadata": {
    "collapsed": false
   },
   "outputs": [],
   "source": [
    "tagged_documents = OrderedDict()\n",
    "prog = IntProgress(min=0, max=len(documents))\n",
    "display(prog)\n",
    "\n",
    "os.environ['CLASSPATH'] = '/Users/andrewlamb/Downloads/stanford-postagger-2015-12-09'\n",
    "os.environ['STANFORD_MODELS'] = '/Users/andrewlamb/Downloads/stanford-postagger-2015-12-09'\n",
    "tagger = nltk.tag.StanfordPOSTagger('models/english-bidirectional-distsim.tagger')\n",
    "\n",
    "for name, doc in documents.items():\n",
    "    sents = [nltk.word_tokenize(sent) for sent in nltk.sent_tokenize(doc)]\n",
    "    tagged_documents[name] = tagger.tag_sents(sents)\n",
    "    prog.value += 1"
   ]
  },
  {
   "cell_type": "code",
   "execution_count": 81,
   "metadata": {
    "collapsed": false
   },
   "outputs": [],
   "source": [
    "def extract_tags(tree):\n",
    "    results = []\n",
    "    \n",
    "    if type(tree) == nltk.tree.Tree:\n",
    "        if tree.label() == 'NP':\n",
    "            phrase = ' '.join([word for word, _pos in tree])\n",
    "            phrase = phrase.lower()\n",
    "            results.append(phrase)\n",
    "\n",
    "        for child in tree:\n",
    "            results.extend(extract_tags(child))\n",
    "    \n",
    "    return results\n",
    "\n",
    "grammar = '''\n",
    "NP: {(<JJ>|<JJS>|<JJR>)*(<NN>|<NNS>|<NNP>|<NNPS>)+} \n",
    "'''\n",
    "\n",
    "cp = nltk.RegexpParser(grammar)\n",
    "candidates = set()\n",
    "\n",
    "chunked_docs = OrderedDict()\n",
    "\n",
    "for name, doc in tagged_documents.items():\n",
    "    chunked_doc = []\n",
    "    for sent in doc:\n",
    "        result = cp.parse(sent)\n",
    "        chunked_doc.extend(extract_tags(result))\n",
    "    chunked_docs[name] = chunked_doc\n",
    "    \n",
    "# Remove stopwords\n",
    "stopwords = set()\n",
    "with open('/Users/andrewlamb/Google_Drive/Stanford/CS199/RAKE-tutorial/SmartStoplistAdditional.txt') as f:\n",
    "    for line in f:\n",
    "        stopwords.add(line.strip())\n",
    "        \n",
    "stopped_docs = OrderedDict()\n",
    "for name, doc in chunked_docs.items():\n",
    "    stopped_docs[name] = [token for token in doc if len(token) > 2 and token not in stopwords]\n",
    "\n",
    "stemmer = nltk.stem.PorterStemmer()\n",
    "stemmed_docs = OrderedDict()\n",
    "for name, doc in stopped_docs.items():\n",
    "    stemmed_doc = []\n",
    "    for chunk in doc:\n",
    "        stemmed_doc.append(' '.join([stemmer.stem(word) for word in nltk.word_tokenize(chunk)]))\n",
    "\n",
    "    stemmed_docs[name] = stemmed_doc\n",
    "\n",
    "    \n",
    "dictionary = corpora.Dictionary(stemmed_docs.values())\n",
    "corpus = [dictionary.doc2bow(text) for text in stemmed_docs.values()]\n",
    "\n",
    "ldamodel = models.ldamodel.LdaModel(corpus, num_topics=20, id2word=dictionary, passes=10)"
   ]
  },
  {
   "cell_type": "code",
   "execution_count": 107,
   "metadata": {
    "collapsed": false
   },
   "outputs": [],
   "source": [
    "extracted = {}\n",
    "\n",
    "for name, bow in zip(documents.keys(), corpus):\n",
    "    extracted[name.replace('txt', 'keys')] = [dictionary[ident] for ident, prob in ldamodel[bow]]"
   ]
  },
  {
   "cell_type": "code",
   "execution_count": 112,
   "metadata": {
    "collapsed": false
   },
   "outputs": [
    {
     "name": "stdout",
     "output_type": "stream",
     "text": [
      "[u'multipl user', u'aspect', u'disk', u'gener form', u'data base system']\n",
      "[u'databas manag system', u'physic data independ', u'high level queri languag', u'data model', u'relat data model', u'xml', u'schema', u'data definit languag', u'data manipul languag', u'databas design', u'databas administr']\n",
      "[u'databas implement', u'data base system']\n",
      "[u'json', u'semi structur data', u'relat data model', u'object', u'label valu pair', u'schema', u'self describ data']\n",
      "[u'edg', u'aspect', u'data base system']\n",
      "[u'queri', u'queri languag', u'ad hoc queri', u'sql', u'data manipul languag', u'closur of the languag']\n",
      "[u'data base system']\n",
      "[u'json', u'array', u'object', u'label valu pair', u'schema', u'composit object', u'syntact correct', u'constraint', u'json schema', u'valid', u'properti', u'semant correct', u'enumer constraint']\n",
      "[u'same data']\n",
      "[u'relat model', u'databas manag system', u'tabl', u'attribut', u'tupl', u'row', u'type', u'domain', u'schema', u'null', u'key']\n",
      "Average jaccard: 0.0\n",
      "Average partial jaccard: 0.0633333333333\n"
     ]
    }
   ],
   "source": [
    "matches = {}\n",
    "jaccard = {}\n",
    "partials = {}\n",
    "partial_jaccard = {}\n",
    "\n",
    "\n",
    "for name, keys in keywords.items():\n",
    "    matches[name.replace('.keys', '')] = list(set(keys).intersection(set(extracted[name])))\n",
    "    jaccard[name.replace('.keys', '')] = float(len(set(keys).intersection(set(extracted[name])))) / len(set(keys).union(set(extracted[name])))\n",
    "    \n",
    "    print(extracted[name])\n",
    "    print(keys)\n",
    "    \n",
    "    inner_partials = []\n",
    "    for manual_key in extracted[name]:\n",
    "        manual_tokens = nltk.word_tokenize(manual_key)\n",
    "        \n",
    "        \n",
    "        for key in keys:\n",
    "            tokens = nltk.word_tokenize(key)\n",
    "            \n",
    "            if len(set(manual_tokens).intersection(set(tokens))) > 0:\n",
    "                inner_partials.append((manual_key, key)) \n",
    "                break\n",
    "    \n",
    "    partials[name.replace('.keys', '')] = inner_partials\n",
    "    partial_jaccard[name.replace('.keys', '')] = float(len(inner_partials)) / (len(keys) + len(extracted[name]) - len(inner_partials))\n",
    "    \n",
    "print('Average jaccard: {}'.format(sum(jaccard.values()) / len(jaccard)))\n",
    "print('Average partial jaccard: {}'.format(sum(partial_jaccard.values()) / len(partial_jaccard)))"
   ]
  }
 ],
 "metadata": {
  "kernelspec": {
   "display_name": "Python 2",
   "language": "python",
   "name": "python2"
  },
  "language_info": {
   "codemirror_mode": {
    "name": "ipython",
    "version": 2
   },
   "file_extension": ".py",
   "mimetype": "text/x-python",
   "name": "python",
   "nbconvert_exporter": "python",
   "pygments_lexer": "ipython2",
   "version": "2.7.10"
  }
 },
 "nbformat": 4,
 "nbformat_minor": 0
}
