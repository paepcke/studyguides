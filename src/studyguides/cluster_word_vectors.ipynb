{
 "cells": [
  {
   "cell_type": "code",
   "execution_count": 42,
   "metadata": {
    "collapsed": true
   },
   "outputs": [],
   "source": [
    "import numpy as np\n",
    "import matplotlib.pyplot as plt\n",
    "\n",
    "from scipy.cluster.hierarchy import linkage, fcluster\n",
    "from collections import defaultdict\n",
    "from pprint import pprint\n",
    "\n",
    "%matplotlib inline"
   ]
  },
  {
   "cell_type": "markdown",
   "metadata": {},
   "source": [
    "Read in the auto generated index for the compilers course."
   ]
  },
  {
   "cell_type": "code",
   "execution_count": 3,
   "metadata": {
    "collapsed": false
   },
   "outputs": [],
   "source": [
    "DATA_DIR = '../../data/'\n",
    "index = set()\n",
    "with open(DATA_DIR + 'auto_index.txt') as f:\n",
    "    for line in f:\n",
    "        index.add(line.strip())"
   ]
  },
  {
   "cell_type": "markdown",
   "metadata": {},
   "source": [
    "Read in pretrained word vectors. These are too big to fit in the repo, they should be downloaded from http://nlp.stanford.edu/data/glove.6B.zip and put in the data directory. At a first glance, these seem to work better."
   ]
  },
  {
   "cell_type": "code",
   "execution_count": 66,
   "metadata": {
    "collapsed": false
   },
   "outputs": [],
   "source": [
    "vectors = {}\n",
    "with open(DATA_DIR + 'glove.6B/glove.6B.300d.txt') as f:\n",
    "    for line in f:\n",
    "        splits = line.strip().split()\n",
    "        word = splits[0]\n",
    "        vector = np.array([float(n) for n in splits[1:]])\n",
    "        vectors[word] = vector"
   ]
  },
  {
   "cell_type": "markdown",
   "metadata": {},
   "source": [
    "Vectors trained on closed caption files."
   ]
  },
  {
   "cell_type": "code",
   "execution_count": 56,
   "metadata": {
    "collapsed": true
   },
   "outputs": [],
   "source": [
    "vectors = {}\n",
    "with open(DATA_DIR + 'vectors.txt') as f:\n",
    "    for line in f:\n",
    "        splits = line.strip().split()\n",
    "        word = splits[0]\n",
    "        vector = np.array([float(n) for n in splits[1:]])\n",
    "        vectors[word.lower()] = vector"
   ]
  },
  {
   "cell_type": "markdown",
   "metadata": {},
   "source": [
    "Get phrase vectors by summing word vectors."
   ]
  },
  {
   "cell_type": "code",
   "execution_count": 67,
   "metadata": {
    "collapsed": true
   },
   "outputs": [],
   "source": [
    "def get_phrase_vector(phrase):\n",
    "    words = phrase.split()\n",
    "    result = np.zeros(len(vectors.values()[0]))\n",
    "    for word in words:\n",
    "        if word not in vectors:\n",
    "            print('Could not find {}'.format(word))\n",
    "        else:\n",
    "            result += vectors[word]\n",
    "    return result"
   ]
  },
  {
   "cell_type": "markdown",
   "metadata": {},
   "source": [
    "Cluster the words."
   ]
  },
  {
   "cell_type": "code",
   "execution_count": 68,
   "metadata": {
    "collapsed": false
   },
   "outputs": [
    {
     "name": "stdout",
     "output_type": "stream",
     "text": [
      "Could not find paren\n",
      "Could not find paren\n"
     ]
    }
   ],
   "source": [
    "X = [get_phrase_vector(phrase) for phrase in index]\n",
    "Z = linkage(X, method='ward', metric='euclidean')"
   ]
  },
  {
   "cell_type": "markdown",
   "metadata": {},
   "source": [
    "Plot the cost of merging two clusters vs. the merge number (should be monotonically increasing)."
   ]
  },
  {
   "cell_type": "code",
   "execution_count": 69,
   "metadata": {
    "collapsed": false
   },
   "outputs": [
    {
     "name": "stdout",
     "output_type": "stream",
     "text": [
      "[  3.69356758   4.13741405   4.44489738   4.46262188   4.61398124\n",
      "   4.66001545   4.70961152   4.71745656   4.88577889   4.96808557\n",
      "   5.08694083   5.09850512   5.10807673   5.11446487   5.18683788\n",
      "   5.27276177   5.29587697   5.36857321   5.38897728   5.39155261\n",
      "   5.42246743   5.46708066   5.48488546   5.50349785   5.56128428\n",
      "   5.57576189   5.63028636   5.65851842   5.66640907   5.6860493\n",
      "   5.73137719   5.76292044   5.76505134   5.77297142   5.79029102\n",
      "   5.79649718   5.81225915   5.83461695   5.88446536   5.8976468\n",
      "   5.91013186   5.92771613   5.93216154   5.93805003   5.95750167\n",
      "   5.96244749   5.98305975   6.06067313   6.06274785   6.0836159\n",
      "   6.13624388   6.14123603   6.14204644   6.14639504   6.14878453\n",
      "   6.16090322   6.17559959   6.19277768   6.2556115    6.2732039\n",
      "   6.28488026   6.30919955   6.34229186   6.37917575   6.43203066\n",
      "   6.44883839   6.46454432   6.47014073   6.48722105   6.48787206\n",
      "   6.50343219   6.50392261   6.56281903   6.57026035   6.573012\n",
      "   6.65871057   6.73510547   6.74788011   6.77242388   6.78796865\n",
      "   6.82280914   6.82962163   6.86049445   6.89760953   6.90533534\n",
      "   6.91883293   6.94455133   6.95447402   6.98025788   6.99202566\n",
      "   7.00971453   7.01836041   7.03097897   7.04992075   7.05234101\n",
      "   7.05528772   7.05790055   7.06191714   7.08942612   7.11355299\n",
      "   7.11858351   7.12326936   7.12492621   7.14263945   7.14462191\n",
      "   7.18644819   7.1948749    7.21023246   7.23242031   7.23880902\n",
      "   7.31280934   7.32342979   7.34279623   7.35123678   7.35846849\n",
      "   7.36037102   7.40876615   7.43031115   7.46671795   7.47765872\n",
      "   7.48737804   7.50466373   7.51079433   7.51930025   7.52186583\n",
      "   7.54175632   7.54464021   7.59323146   7.60611715   7.66546241\n",
      "   7.66575406   7.67369862   7.67634845   7.69748612   7.74427267\n",
      "   7.74641157   7.76085541   7.77928378   7.78080891   7.78460245\n",
      "   7.7873342    7.80967854   7.81157436   7.83314697   7.8388595\n",
      "   7.84088544   7.86351184   7.87839611   7.89058266   7.89085505\n",
      "   7.89767174   7.9342659    7.93858657   7.94665227   7.94817785\n",
      "   7.95020267   7.96767735   7.98185379   7.99042046   8.03173745\n",
      "   8.03745895   8.05684197   8.08116862   8.08932015   8.11206286\n",
      "   8.18670353   8.21075547   8.21437097   8.23734871   8.2419746\n",
      "   8.24398871   8.24590465   8.29001304   8.33182722   8.34475246\n",
      "   8.35164506   8.35917293   8.38674875   8.38862123   8.41457124\n",
      "   8.50143865   8.51785212   8.52806214   8.53480131   8.54660745\n",
      "   8.56286438   8.57558447   8.58977004   8.61675696   8.64691548\n",
      "   8.66409934   8.66532753   8.72833146   8.74577606   8.74635922\n",
      "   8.74981448   8.76832741   8.8107941    8.8327843    8.84737364\n",
      "   8.84889105   8.86815563   8.88041812   8.92516189   8.94568112\n",
      "   8.94611071   8.97871286   9.05352674   9.09011062   9.15830104\n",
      "   9.16128742   9.17934163   9.1801947    9.24561566   9.25373572\n",
      "   9.33355499   9.37936123   9.39386732   9.42978239   9.45908465\n",
      "   9.52757479   9.55532763   9.6412946    9.66498885   9.66526683\n",
      "   9.720812     9.77176652   9.82775246   9.85374673   9.86564256\n",
      "   9.96715239   9.98087181   9.98433916  10.10348165  10.12243804\n",
      "  10.3255057   10.35849461  10.4064865   10.43286843  10.4845044\n",
      "  10.59378322  10.59457944  10.68528506  10.72389935  10.83873075\n",
      "  10.97414285  10.98700431  10.98730277  11.04302278  11.05745867\n",
      "  11.28238964  11.43417253  11.45168771  11.51021815  11.59705999\n",
      "  11.62439728  11.6743997   11.70615896  11.75362328  12.09727683\n",
      "  12.17355606  12.21994005  12.28995315  12.31698453  12.39112621\n",
      "  12.41702997  12.53011556  12.55084866  12.6397746   12.81422317\n",
      "  12.87039901  12.95932003  13.00717179  13.16320521  13.21691944\n",
      "  13.29567321  13.55968954  14.02823488  14.31233049  14.35644074\n",
      "  14.77692414  15.91019228  15.9876092   16.44881368  16.49427744\n",
      "  16.69405886  16.76758423  17.11429149  17.55408681  17.59672979\n",
      "  17.87219136  18.26107711  20.44712818  21.77409459  22.82112523\n",
      "  23.80012325  34.29109621  39.13845164]\n"
     ]
    },
    {
     "data": {
      "image/png": "[encoded data removed]",
      "text/plain": [
       "<matplotlib.figure.Figure at 0x1fde01d90>"
      ]
     },
     "metadata": {},
     "output_type": "display_data"
    }
   ],
   "source": [
    "print(Z[:, 2])\n",
    "plt.plot(Z[:, 2])\n",
    "plt.xlabel('iteration')\n",
    "_ = plt.ylabel('merge cost')"
   ]
  },
  {
   "cell_type": "markdown",
   "metadata": {},
   "source": [
    "Recover the clusters, stopping merging at some distance."
   ]
  },
  {
   "cell_type": "code",
   "execution_count": 70,
   "metadata": {
    "collapsed": true
   },
   "outputs": [],
   "source": [
    "cluster_idxs = fcluster(Z, 10.0, criterion='distance')"
   ]
  },
  {
   "cell_type": "code",
   "execution_count": 71,
   "metadata": {
    "collapsed": false
   },
   "outputs": [
    {
     "name": "stdout",
     "output_type": "stream",
     "text": [
      "[set(['leftmost', 'rightmost']),\n",
      " set(['dfa', 'nfa', 'parser']),\n",
      " set(['algorithm', 'compute', 'deterministic', 'optimization']),\n",
      " set(['byte', 'integer']),\n",
      " set(['alphabet',\n",
      "      'derivation',\n",
      "      'nested',\n",
      "      'notation',\n",
      "      'parameter',\n",
      "      'predicate',\n",
      "      'semantics',\n",
      "      'subclass',\n",
      "      'subset',\n",
      "      'template']),\n",
      " set(['accumulator',\n",
      "      'increment',\n",
      "      'initialization',\n",
      "      'nonterminal',\n",
      "      'parens',\n",
      "      'subtraction']),\n",
      " set(['identifier', 'subtype']),\n",
      " set(['factorial']),\n",
      " set(['reachable object']),\n",
      " set(['viable prefix']),\n",
      " set(['cache', 'instruction', 'optional', 'typed', 'typing']),\n",
      " set(['keyword']),\n",
      " set(['boundary',\n",
      "      'cycle',\n",
      "      'digit',\n",
      "      'domain',\n",
      "      'loop',\n",
      "      'operator',\n",
      "      'sequence',\n",
      "      'thread']),\n",
      " set(['coloring', 'dot', 'heap', 'node', 'root', 'unreachable']),\n",
      " set(['architecture',\n",
      "      'configuration',\n",
      "      'design',\n",
      "      'interface',\n",
      "      'layout',\n",
      "      'programmer']),\n",
      " set(['beta', 'epsilon']),\n",
      " set(['fortran', 'java']),\n",
      " set(['frame pointer', 'input pointer', 'pointer point', 'stack pointer']),\n",
      " set(['lexical analysis', 'semantic analysis']),\n",
      " set(['lexical specification']),\n",
      " set(['parse tree']),\n",
      " set(['bottom parsing']),\n",
      " set(['abstract syntax tree']),\n",
      " set(['finite automaton']),\n",
      " set(['recursive descent']),\n",
      " set(['compile time', 'data', 'file', 'list', 'register']),\n",
      " set(['reference count']),\n",
      " set(['updated store']),\n",
      " set(['activation record']),\n",
      " set(['memory location']),\n",
      " set(['stack machine', 'top stack']),\n",
      " set(['garbage collection']),\n",
      " set(['addition',\n",
      "      'body',\n",
      "      'cast',\n",
      "      'character',\n",
      "      'child',\n",
      "      'consists',\n",
      "      'dead',\n",
      "      'exception',\n",
      "      'feature',\n",
      "      'live',\n",
      "      'local',\n",
      "      'neighbor',\n",
      "      'people',\n",
      "      'perform',\n",
      "      'special',\n",
      "      'today',\n",
      "      'twelve']),\n",
      " set(['bunch',\n",
      "      'catch',\n",
      "      'cool',\n",
      "      'easy',\n",
      "      'hard',\n",
      "      'jump',\n",
      "      'pick',\n",
      "      'pop',\n",
      "      'save',\n",
      "      'sound',\n",
      "      'stuff',\n",
      "      'throw']),\n",
      " set(['bar',\n",
      "      'big',\n",
      "      'close paren',\n",
      "      'double',\n",
      "      'edge',\n",
      "      'field',\n",
      "      'inner',\n",
      "      'inside',\n",
      "      'lead',\n",
      "      'long',\n",
      "      'mark',\n",
      "      'match',\n",
      "      'pair',\n",
      "      'pass',\n",
      "      'path',\n",
      "      'running',\n",
      "      'size',\n",
      "      'small',\n",
      "      'spill',\n",
      "      'table']),\n",
      " set(['executes', 'executing', 'execution', 'sentence']),\n",
      " set(['accepting',\n",
      "      'application',\n",
      "      'assignment',\n",
      "      'calling',\n",
      "      'complete',\n",
      "      'decision',\n",
      "      'declaration',\n",
      "      'declared',\n",
      "      'dispatch',\n",
      "      'entry',\n",
      "      'formal',\n",
      "      'open paren',\n",
      "      'ordering',\n",
      "      'recall',\n",
      "      'temporary']),\n",
      " set(['copy', 'item', 'letter', 'print', 'signature', 'writing', 'written']),\n",
      " set(['blank', 'error', 'false', 'mistake', 'valid']),\n",
      " set(['evaluate', 'evaluating', 'evaluation']),\n",
      " set(['implementation',\n",
      "      'operation',\n",
      "      'phase',\n",
      "      'procedure',\n",
      "      'process',\n",
      "      'technique',\n",
      "      'transition']),\n",
      " set(['allocate',\n",
      "      'allocation',\n",
      "      'equal',\n",
      "      'guaranteed',\n",
      "      'inheritance',\n",
      "      'property',\n",
      "      'representation']),\n",
      " set(['array',\n",
      "      'build',\n",
      "      'common',\n",
      "      'complicated',\n",
      "      'construct',\n",
      "      'generating',\n",
      "      'handle',\n",
      "      'load',\n",
      "      'multiple',\n",
      "      'produce',\n",
      "      'types',\n",
      "      'typically',\n",
      "      'wind']),\n",
      " set(['actual',\n",
      "      'assumption',\n",
      "      'attribute',\n",
      "      'consistent',\n",
      "      'constant',\n",
      "      'content',\n",
      "      'correct',\n",
      "      'define',\n",
      "      'detail',\n",
      "      'element',\n",
      "      'figure',\n",
      "      'interaction',\n",
      "      'interference',\n",
      "      'meaning',\n",
      "      'relationship',\n",
      "      'scope',\n",
      "      'structure']),\n",
      " set(['dollar', 'slide', 'stock']),\n",
      " set(['cost', 'high', 'level', 'reduced', 'reduction']),\n",
      " set(['shift reduce']),\n",
      " set(['alternative',\n",
      "      'better',\n",
      "      'change',\n",
      "      'clearly',\n",
      "      'conflict',\n",
      "      'continue',\n",
      "      'current',\n",
      "      'decide',\n",
      "      'discussion',\n",
      "      'focus',\n",
      "      'future',\n",
      "      'global',\n",
      "      'hold',\n",
      "      'interested',\n",
      "      'issue',\n",
      "      'possibility',\n",
      "      'push',\n",
      "      'question',\n",
      "      'ready',\n",
      "      'reason',\n",
      "      'sense',\n",
      "      'strategy',\n",
      "      'talking',\n",
      "      'understand',\n",
      "      'working']),\n",
      " set(['assembly',\n",
      "      'branch',\n",
      "      'general',\n",
      "      'predecessor',\n",
      "      'prime',\n",
      "      'replace',\n",
      "      'succeeds',\n",
      "      'union']),\n",
      " set(['final state', 'set state', 'start state', 'state input']),\n",
      " set(['hand side production', 'left hand side']),\n",
      " set(['floating point', 'program point']),\n",
      " set(['first position', 'first production', 'first set', 'follow set']),\n",
      " set(['basic block', 'statement block']),\n",
      " set(['upper bound']),\n",
      " set(['white space']),\n",
      " set(['start symbol', 'terminal symbol']),\n",
      " set(['function call', 'return address', 'return true', 'return type']),\n",
      " set(['control flow graph']),\n",
      " set(['token class', 'type class']),\n",
      " set(['expression type', 'regular expression']),\n",
      " set(['argument type',\n",
      "      'dynamic type',\n",
      "      'static type',\n",
      "      'type checking',\n",
      "      'type environment',\n",
      "      'type object',\n",
      "      'type system']),\n",
      " set(['empty string', 'input string', 'set string', 'string language']),\n",
      " set(['code generation', 'generate code', 'intermediate code', 'piece code']),\n",
      " set(['programming language']),\n",
      " set(['context free grammar'])]\n"
     ]
    }
   ],
   "source": [
    "clusters = defaultdict(set)\n",
    "for phrase, cluster_idx in zip(index, cluster_idxs):\n",
    "    clusters[cluster_idx].add(phrase)\n",
    "pprint(clusters.values())"
   ]
  },
  {
   "cell_type": "code",
   "execution_count": null,
   "metadata": {
    "collapsed": true
   },
   "outputs": [],
   "source": []
  }
 ],
 "metadata": {
  "kernelspec": {
   "display_name": "Python 2",
   "language": "python",
   "name": "python2"
  },
  "language_info": {
   "codemirror_mode": {
    "name": "ipython",
    "version": 2
   },
   "file_extension": ".py",
   "mimetype": "text/x-python",
   "name": "python",
   "nbconvert_exporter": "python",
   "pygments_lexer": "ipython2",
   "version": "2.7.10"
  }
 },
 "nbformat": 4,
 "nbformat_minor": 0
}
