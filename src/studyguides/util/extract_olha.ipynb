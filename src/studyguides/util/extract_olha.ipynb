{
 "cells": [
  {
   "cell_type": "code",
   "execution_count": 8,
   "metadata": {
    "collapsed": false
   },
   "outputs": [],
   "source": [
    "from collections import defaultdict\n",
    "\n",
    "all_keywords = defaultdict(list)\n",
    "with open('/Users/andrewlamb/Downloads/02_06_marked/keywords.txt') as f:\n",
    "    for line in f:\n",
    "        line = line.strip()\n",
    "        if line.endswith('.txt'):\n",
    "            current_file = line\n",
    "        elif line != '':\n",
    "            keywords = [keyword.strip() for keyword in line.split(',')]\n",
    "            all_keywords[current_file].extend(keywords)\n",
    "\n",
    "with open('rater3.csv', 'w') as f:\n",
    "    for file, keywords in sorted(all_keywords.items()):\n",
    "        for i, keyword in enumerate(keywords):\n",
    "            f.write('{},{},,{}\\n'.format(file, keyword, i+1))"
   ]
  },
  {
   "cell_type": "code",
   "execution_count": null,
   "metadata": {
    "collapsed": true
   },
   "outputs": [],
   "source": []
  }
 ],
 "metadata": {
  "kernelspec": {
   "display_name": "Python 3",
   "language": "python",
   "name": "python3"
  },
  "language_info": {
   "codemirror_mode": {
    "name": "ipython",
    "version": 3
   },
   "file_extension": ".py",
   "mimetype": "text/x-python",
   "name": "python",
   "nbconvert_exporter": "python",
   "pygments_lexer": "ipython3",
   "version": "3.3.5"
  }
 },
 "nbformat": 4,
 "nbformat_minor": 0
}
